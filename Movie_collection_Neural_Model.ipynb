{
 "cells": [
  {
   "cell_type": "markdown",
   "id": "7c60e998",
   "metadata": {},
   "source": [
    "# Building Neural Model on Linear Regression"
   ]
  },
  {
   "cell_type": "code",
   "execution_count": 229,
   "id": "813ed3da",
   "metadata": {},
   "outputs": [],
   "source": [
    "import seaborn as sns\n",
    "import numpy as np\n",
    "import pandas as pd"
   ]
  },
  {
   "cell_type": "code",
   "execution_count": 230,
   "id": "e08837e2",
   "metadata": {},
   "outputs": [
    {
     "data": {
      "text/plain": [
       "'C:\\\\Users\\\\DOREEN DOMPREH'"
      ]
     },
     "execution_count": 230,
     "metadata": {},
     "output_type": "execute_result"
    }
   ],
   "source": [
    "pwd"
   ]
  },
  {
   "cell_type": "code",
   "execution_count": 231,
   "id": "74c72c17",
   "metadata": {},
   "outputs": [],
   "source": [
    "df = pd.read_csv('C:/Users/DOREEN DOMPREH/Downloads/Movie_collection_train.csv', header=0)"
   ]
  },
  {
   "cell_type": "code",
   "execution_count": 232,
   "id": "5995d675",
   "metadata": {},
   "outputs": [
    {
     "data": {
      "text/html": [
       "<div>\n",
       "<style scoped>\n",
       "    .dataframe tbody tr th:only-of-type {\n",
       "        vertical-align: middle;\n",
       "    }\n",
       "\n",
       "    .dataframe tbody tr th {\n",
       "        vertical-align: top;\n",
       "    }\n",
       "\n",
       "    .dataframe thead th {\n",
       "        text-align: right;\n",
       "    }\n",
       "</style>\n",
       "<table border=\"1\" class=\"dataframe\">\n",
       "  <thead>\n",
       "    <tr style=\"text-align: right;\">\n",
       "      <th></th>\n",
       "      <th>Collection</th>\n",
       "      <th>Marketin_expense</th>\n",
       "      <th>Production_expense</th>\n",
       "      <th>Multiplex_coverage</th>\n",
       "      <th>Budget</th>\n",
       "      <th>Movie_length</th>\n",
       "      <th>Lead_ Actor_Rating</th>\n",
       "      <th>Lead_Actress_rating</th>\n",
       "      <th>Director_rating</th>\n",
       "      <th>Producer_rating</th>\n",
       "      <th>Critic_rating</th>\n",
       "      <th>Trailer_views</th>\n",
       "      <th>Time_taken</th>\n",
       "      <th>Twitter_hastags</th>\n",
       "      <th>Genre</th>\n",
       "      <th>Avg_age_actors</th>\n",
       "      <th>MPAA_film_rating</th>\n",
       "      <th>Num_multiplex</th>\n",
       "      <th>3D_available</th>\n",
       "    </tr>\n",
       "  </thead>\n",
       "  <tbody>\n",
       "    <tr>\n",
       "      <th>0</th>\n",
       "      <td>48000</td>\n",
       "      <td>20.1264</td>\n",
       "      <td>59.62</td>\n",
       "      <td>0.462</td>\n",
       "      <td>36524.125</td>\n",
       "      <td>138.7</td>\n",
       "      <td>7.825</td>\n",
       "      <td>8.095</td>\n",
       "      <td>7.910</td>\n",
       "      <td>7.995</td>\n",
       "      <td>7.94</td>\n",
       "      <td>527367</td>\n",
       "      <td>109.60</td>\n",
       "      <td>223.840</td>\n",
       "      <td>Thriller</td>\n",
       "      <td>23</td>\n",
       "      <td>PG</td>\n",
       "      <td>494</td>\n",
       "      <td>YES</td>\n",
       "    </tr>\n",
       "    <tr>\n",
       "      <th>1</th>\n",
       "      <td>43200</td>\n",
       "      <td>20.5462</td>\n",
       "      <td>69.14</td>\n",
       "      <td>0.531</td>\n",
       "      <td>35668.655</td>\n",
       "      <td>152.4</td>\n",
       "      <td>7.505</td>\n",
       "      <td>7.650</td>\n",
       "      <td>7.440</td>\n",
       "      <td>7.470</td>\n",
       "      <td>7.44</td>\n",
       "      <td>494055</td>\n",
       "      <td>146.64</td>\n",
       "      <td>243.456</td>\n",
       "      <td>Drama</td>\n",
       "      <td>42</td>\n",
       "      <td>PG</td>\n",
       "      <td>462</td>\n",
       "      <td>NO</td>\n",
       "    </tr>\n",
       "    <tr>\n",
       "      <th>2</th>\n",
       "      <td>69400</td>\n",
       "      <td>20.5458</td>\n",
       "      <td>69.14</td>\n",
       "      <td>0.531</td>\n",
       "      <td>39912.675</td>\n",
       "      <td>134.6</td>\n",
       "      <td>7.485</td>\n",
       "      <td>7.570</td>\n",
       "      <td>7.495</td>\n",
       "      <td>7.515</td>\n",
       "      <td>7.44</td>\n",
       "      <td>547051</td>\n",
       "      <td>147.88</td>\n",
       "      <td>2022.400</td>\n",
       "      <td>Comedy</td>\n",
       "      <td>38</td>\n",
       "      <td>PG</td>\n",
       "      <td>458</td>\n",
       "      <td>NO</td>\n",
       "    </tr>\n",
       "    <tr>\n",
       "      <th>3</th>\n",
       "      <td>66800</td>\n",
       "      <td>20.6474</td>\n",
       "      <td>59.36</td>\n",
       "      <td>0.542</td>\n",
       "      <td>38873.890</td>\n",
       "      <td>119.3</td>\n",
       "      <td>6.895</td>\n",
       "      <td>7.035</td>\n",
       "      <td>6.920</td>\n",
       "      <td>7.020</td>\n",
       "      <td>8.26</td>\n",
       "      <td>516279</td>\n",
       "      <td>185.36</td>\n",
       "      <td>225.344</td>\n",
       "      <td>Drama</td>\n",
       "      <td>45</td>\n",
       "      <td>PG</td>\n",
       "      <td>472</td>\n",
       "      <td>YES</td>\n",
       "    </tr>\n",
       "    <tr>\n",
       "      <th>4</th>\n",
       "      <td>72400</td>\n",
       "      <td>21.3810</td>\n",
       "      <td>59.36</td>\n",
       "      <td>0.542</td>\n",
       "      <td>39701.585</td>\n",
       "      <td>127.7</td>\n",
       "      <td>6.920</td>\n",
       "      <td>7.070</td>\n",
       "      <td>6.815</td>\n",
       "      <td>7.070</td>\n",
       "      <td>8.26</td>\n",
       "      <td>531448</td>\n",
       "      <td>176.48</td>\n",
       "      <td>225.792</td>\n",
       "      <td>Drama</td>\n",
       "      <td>55</td>\n",
       "      <td>PG</td>\n",
       "      <td>395</td>\n",
       "      <td>NO</td>\n",
       "    </tr>\n",
       "  </tbody>\n",
       "</table>\n",
       "</div>"
      ],
      "text/plain": [
       "   Collection  Marketin_expense  Production_expense  Multiplex_coverage  \\\n",
       "0       48000           20.1264               59.62               0.462   \n",
       "1       43200           20.5462               69.14               0.531   \n",
       "2       69400           20.5458               69.14               0.531   \n",
       "3       66800           20.6474               59.36               0.542   \n",
       "4       72400           21.3810               59.36               0.542   \n",
       "\n",
       "      Budget  Movie_length  Lead_ Actor_Rating  Lead_Actress_rating  \\\n",
       "0  36524.125         138.7               7.825                8.095   \n",
       "1  35668.655         152.4               7.505                7.650   \n",
       "2  39912.675         134.6               7.485                7.570   \n",
       "3  38873.890         119.3               6.895                7.035   \n",
       "4  39701.585         127.7               6.920                7.070   \n",
       "\n",
       "   Director_rating  Producer_rating  Critic_rating  Trailer_views  Time_taken  \\\n",
       "0            7.910            7.995           7.94         527367      109.60   \n",
       "1            7.440            7.470           7.44         494055      146.64   \n",
       "2            7.495            7.515           7.44         547051      147.88   \n",
       "3            6.920            7.020           8.26         516279      185.36   \n",
       "4            6.815            7.070           8.26         531448      176.48   \n",
       "\n",
       "   Twitter_hastags     Genre  Avg_age_actors MPAA_film_rating  Num_multiplex  \\\n",
       "0          223.840  Thriller              23               PG            494   \n",
       "1          243.456     Drama              42               PG            462   \n",
       "2         2022.400    Comedy              38               PG            458   \n",
       "3          225.344     Drama              45               PG            472   \n",
       "4          225.792     Drama              55               PG            395   \n",
       "\n",
       "  3D_available  \n",
       "0          YES  \n",
       "1           NO  \n",
       "2           NO  \n",
       "3          YES  \n",
       "4           NO  "
      ]
     },
     "execution_count": 232,
     "metadata": {},
     "output_type": "execute_result"
    }
   ],
   "source": [
    "df.head()"
   ]
  },
  {
   "cell_type": "code",
   "execution_count": 233,
   "id": "18e68e71",
   "metadata": {},
   "outputs": [
    {
     "data": {
      "text/plain": [
       "(400, 19)"
      ]
     },
     "execution_count": 233,
     "metadata": {},
     "output_type": "execute_result"
    }
   ],
   "source": [
    "df.shape"
   ]
  },
  {
   "cell_type": "code",
   "execution_count": 234,
   "id": "bf747c64",
   "metadata": {},
   "outputs": [
    {
     "data": {
      "text/html": [
       "<div>\n",
       "<style scoped>\n",
       "    .dataframe tbody tr th:only-of-type {\n",
       "        vertical-align: middle;\n",
       "    }\n",
       "\n",
       "    .dataframe tbody tr th {\n",
       "        vertical-align: top;\n",
       "    }\n",
       "\n",
       "    .dataframe thead th {\n",
       "        text-align: right;\n",
       "    }\n",
       "</style>\n",
       "<table border=\"1\" class=\"dataframe\">\n",
       "  <thead>\n",
       "    <tr style=\"text-align: right;\">\n",
       "      <th></th>\n",
       "      <th>Collection</th>\n",
       "      <th>Marketin_expense</th>\n",
       "      <th>Production_expense</th>\n",
       "      <th>Multiplex_coverage</th>\n",
       "      <th>Budget</th>\n",
       "      <th>Movie_length</th>\n",
       "      <th>Lead_ Actor_Rating</th>\n",
       "      <th>Lead_Actress_rating</th>\n",
       "      <th>Director_rating</th>\n",
       "      <th>Producer_rating</th>\n",
       "      <th>Critic_rating</th>\n",
       "      <th>Trailer_views</th>\n",
       "      <th>Time_taken</th>\n",
       "      <th>Twitter_hastags</th>\n",
       "      <th>Avg_age_actors</th>\n",
       "      <th>Num_multiplex</th>\n",
       "    </tr>\n",
       "  </thead>\n",
       "  <tbody>\n",
       "    <tr>\n",
       "      <th>count</th>\n",
       "      <td>400.000000</td>\n",
       "      <td>400.000000</td>\n",
       "      <td>400.000000</td>\n",
       "      <td>400.000000</td>\n",
       "      <td>400.000000</td>\n",
       "      <td>400.000000</td>\n",
       "      <td>400.000000</td>\n",
       "      <td>400.000000</td>\n",
       "      <td>400.000000</td>\n",
       "      <td>400.000000</td>\n",
       "      <td>400.000000</td>\n",
       "      <td>400.000000</td>\n",
       "      <td>392.000000</td>\n",
       "      <td>400.000000</td>\n",
       "      <td>400.000000</td>\n",
       "      <td>400.000000</td>\n",
       "    </tr>\n",
       "    <tr>\n",
       "      <th>mean</th>\n",
       "      <td>48646.500000</td>\n",
       "      <td>55.017181</td>\n",
       "      <td>73.832700</td>\n",
       "      <td>0.469881</td>\n",
       "      <td>35197.771537</td>\n",
       "      <td>137.581750</td>\n",
       "      <td>7.810275</td>\n",
       "      <td>7.982813</td>\n",
       "      <td>7.813375</td>\n",
       "      <td>7.993888</td>\n",
       "      <td>7.894100</td>\n",
       "      <td>463223.567500</td>\n",
       "      <td>157.790000</td>\n",
       "      <td>258.083840</td>\n",
       "      <td>38.715000</td>\n",
       "      <td>523.650000</td>\n",
       "    </tr>\n",
       "    <tr>\n",
       "      <th>std</th>\n",
       "      <td>18308.499136</td>\n",
       "      <td>119.755634</td>\n",
       "      <td>13.023426</td>\n",
       "      <td>0.113920</td>\n",
       "      <td>4075.766926</td>\n",
       "      <td>28.990673</td>\n",
       "      <td>1.088694</td>\n",
       "      <td>1.089923</td>\n",
       "      <td>1.093581</td>\n",
       "      <td>1.088619</td>\n",
       "      <td>0.672413</td>\n",
       "      <td>65225.567649</td>\n",
       "      <td>31.723517</td>\n",
       "      <td>94.621476</td>\n",
       "      <td>12.651043</td>\n",
       "      <td>103.661283</td>\n",
       "    </tr>\n",
       "    <tr>\n",
       "      <th>min</th>\n",
       "      <td>10000.000000</td>\n",
       "      <td>20.126400</td>\n",
       "      <td>55.920000</td>\n",
       "      <td>0.129000</td>\n",
       "      <td>19781.355000</td>\n",
       "      <td>76.400000</td>\n",
       "      <td>3.840000</td>\n",
       "      <td>4.035000</td>\n",
       "      <td>3.840000</td>\n",
       "      <td>4.030000</td>\n",
       "      <td>6.600000</td>\n",
       "      <td>215432.000000</td>\n",
       "      <td>0.000000</td>\n",
       "      <td>201.632000</td>\n",
       "      <td>3.000000</td>\n",
       "      <td>333.000000</td>\n",
       "    </tr>\n",
       "    <tr>\n",
       "      <th>25%</th>\n",
       "      <td>37800.000000</td>\n",
       "      <td>21.321950</td>\n",
       "      <td>63.250000</td>\n",
       "      <td>0.419000</td>\n",
       "      <td>32721.727500</td>\n",
       "      <td>111.175000</td>\n",
       "      <td>7.092500</td>\n",
       "      <td>7.252500</td>\n",
       "      <td>7.123750</td>\n",
       "      <td>7.273750</td>\n",
       "      <td>7.320000</td>\n",
       "      <td>436793.500000</td>\n",
       "      <td>133.360000</td>\n",
       "      <td>223.804000</td>\n",
       "      <td>26.000000</td>\n",
       "      <td>451.000000</td>\n",
       "    </tr>\n",
       "    <tr>\n",
       "      <th>50%</th>\n",
       "      <td>45000.000000</td>\n",
       "      <td>23.214700</td>\n",
       "      <td>69.030000</td>\n",
       "      <td>0.494500</td>\n",
       "      <td>34593.762500</td>\n",
       "      <td>142.250000</td>\n",
       "      <td>7.995000</td>\n",
       "      <td>8.157500</td>\n",
       "      <td>7.990000</td>\n",
       "      <td>8.140000</td>\n",
       "      <td>7.960000</td>\n",
       "      <td>474930.000000</td>\n",
       "      <td>159.720000</td>\n",
       "      <td>246.680000</td>\n",
       "      <td>39.000000</td>\n",
       "      <td>510.000000</td>\n",
       "    </tr>\n",
       "    <tr>\n",
       "      <th>75%</th>\n",
       "      <td>56500.000000</td>\n",
       "      <td>34.638300</td>\n",
       "      <td>82.840000</td>\n",
       "      <td>0.558000</td>\n",
       "      <td>37142.118750</td>\n",
       "      <td>165.400000</td>\n",
       "      <td>8.725000</td>\n",
       "      <td>8.912500</td>\n",
       "      <td>8.740000</td>\n",
       "      <td>8.931250</td>\n",
       "      <td>8.400000</td>\n",
       "      <td>507690.500000</td>\n",
       "      <td>183.210000</td>\n",
       "      <td>283.444000</td>\n",
       "      <td>50.000000</td>\n",
       "      <td>571.000000</td>\n",
       "    </tr>\n",
       "    <tr>\n",
       "      <th>max</th>\n",
       "      <td>100000.000000</td>\n",
       "      <td>1799.524000</td>\n",
       "      <td>106.300000</td>\n",
       "      <td>0.615000</td>\n",
       "      <td>48772.900000</td>\n",
       "      <td>173.500000</td>\n",
       "      <td>9.435000</td>\n",
       "      <td>9.540000</td>\n",
       "      <td>9.425000</td>\n",
       "      <td>9.635000</td>\n",
       "      <td>9.400000</td>\n",
       "      <td>567784.000000</td>\n",
       "      <td>217.520000</td>\n",
       "      <td>2022.400000</td>\n",
       "      <td>60.000000</td>\n",
       "      <td>868.000000</td>\n",
       "    </tr>\n",
       "  </tbody>\n",
       "</table>\n",
       "</div>"
      ],
      "text/plain": [
       "          Collection  Marketin_expense  Production_expense  \\\n",
       "count     400.000000        400.000000          400.000000   \n",
       "mean    48646.500000         55.017181           73.832700   \n",
       "std     18308.499136        119.755634           13.023426   \n",
       "min     10000.000000         20.126400           55.920000   \n",
       "25%     37800.000000         21.321950           63.250000   \n",
       "50%     45000.000000         23.214700           69.030000   \n",
       "75%     56500.000000         34.638300           82.840000   \n",
       "max    100000.000000       1799.524000          106.300000   \n",
       "\n",
       "       Multiplex_coverage        Budget  Movie_length  Lead_ Actor_Rating  \\\n",
       "count          400.000000    400.000000    400.000000          400.000000   \n",
       "mean             0.469881  35197.771537    137.581750            7.810275   \n",
       "std              0.113920   4075.766926     28.990673            1.088694   \n",
       "min              0.129000  19781.355000     76.400000            3.840000   \n",
       "25%              0.419000  32721.727500    111.175000            7.092500   \n",
       "50%              0.494500  34593.762500    142.250000            7.995000   \n",
       "75%              0.558000  37142.118750    165.400000            8.725000   \n",
       "max              0.615000  48772.900000    173.500000            9.435000   \n",
       "\n",
       "       Lead_Actress_rating  Director_rating  Producer_rating  Critic_rating  \\\n",
       "count           400.000000       400.000000       400.000000     400.000000   \n",
       "mean              7.982813         7.813375         7.993888       7.894100   \n",
       "std               1.089923         1.093581         1.088619       0.672413   \n",
       "min               4.035000         3.840000         4.030000       6.600000   \n",
       "25%               7.252500         7.123750         7.273750       7.320000   \n",
       "50%               8.157500         7.990000         8.140000       7.960000   \n",
       "75%               8.912500         8.740000         8.931250       8.400000   \n",
       "max               9.540000         9.425000         9.635000       9.400000   \n",
       "\n",
       "       Trailer_views  Time_taken  Twitter_hastags  Avg_age_actors  \\\n",
       "count     400.000000  392.000000       400.000000      400.000000   \n",
       "mean   463223.567500  157.790000       258.083840       38.715000   \n",
       "std     65225.567649   31.723517        94.621476       12.651043   \n",
       "min    215432.000000    0.000000       201.632000        3.000000   \n",
       "25%    436793.500000  133.360000       223.804000       26.000000   \n",
       "50%    474930.000000  159.720000       246.680000       39.000000   \n",
       "75%    507690.500000  183.210000       283.444000       50.000000   \n",
       "max    567784.000000  217.520000      2022.400000       60.000000   \n",
       "\n",
       "       Num_multiplex  \n",
       "count     400.000000  \n",
       "mean      523.650000  \n",
       "std       103.661283  \n",
       "min       333.000000  \n",
       "25%       451.000000  \n",
       "50%       510.000000  \n",
       "75%       571.000000  \n",
       "max       868.000000  "
      ]
     },
     "execution_count": 234,
     "metadata": {},
     "output_type": "execute_result"
    }
   ],
   "source": [
    "df.describe()"
   ]
  },
  {
   "cell_type": "code",
   "execution_count": 235,
   "id": "8fabcca4",
   "metadata": {},
   "outputs": [],
   "source": [
    "# df.info()"
   ]
  },
  {
   "cell_type": "code",
   "execution_count": 236,
   "id": "b5c0b07d",
   "metadata": {},
   "outputs": [
    {
     "data": {
      "text/html": [
       "<div>\n",
       "<style scoped>\n",
       "    .dataframe tbody tr th:only-of-type {\n",
       "        vertical-align: middle;\n",
       "    }\n",
       "\n",
       "    .dataframe tbody tr th {\n",
       "        vertical-align: top;\n",
       "    }\n",
       "\n",
       "    .dataframe thead th {\n",
       "        text-align: right;\n",
       "    }\n",
       "</style>\n",
       "<table border=\"1\" class=\"dataframe\">\n",
       "  <thead>\n",
       "    <tr style=\"text-align: right;\">\n",
       "      <th></th>\n",
       "      <th>Marketin_expense</th>\n",
       "      <th>Production_expense</th>\n",
       "      <th>Multiplex_coverage</th>\n",
       "      <th>Budget</th>\n",
       "      <th>Movie_length</th>\n",
       "      <th>Lead_ Actor_Rating</th>\n",
       "      <th>Lead_Actress_rating</th>\n",
       "      <th>Director_rating</th>\n",
       "      <th>Producer_rating</th>\n",
       "      <th>Critic_rating</th>\n",
       "      <th>Trailer_views</th>\n",
       "      <th>Time_taken</th>\n",
       "      <th>Twitter_hastags</th>\n",
       "      <th>Genre</th>\n",
       "      <th>Avg_age_actors</th>\n",
       "      <th>MPAA_film_rating</th>\n",
       "      <th>Num_multiplex</th>\n",
       "      <th>3D_available</th>\n",
       "    </tr>\n",
       "  </thead>\n",
       "  <tbody>\n",
       "    <tr>\n",
       "      <th>0</th>\n",
       "      <td>20.1264</td>\n",
       "      <td>59.62</td>\n",
       "      <td>0.462</td>\n",
       "      <td>36524.125</td>\n",
       "      <td>138.7</td>\n",
       "      <td>7.825</td>\n",
       "      <td>8.095</td>\n",
       "      <td>7.910</td>\n",
       "      <td>7.995</td>\n",
       "      <td>7.94</td>\n",
       "      <td>527367</td>\n",
       "      <td>109.60</td>\n",
       "      <td>223.840</td>\n",
       "      <td>Thriller</td>\n",
       "      <td>23</td>\n",
       "      <td>PG</td>\n",
       "      <td>494</td>\n",
       "      <td>YES</td>\n",
       "    </tr>\n",
       "    <tr>\n",
       "      <th>1</th>\n",
       "      <td>20.5462</td>\n",
       "      <td>69.14</td>\n",
       "      <td>0.531</td>\n",
       "      <td>35668.655</td>\n",
       "      <td>152.4</td>\n",
       "      <td>7.505</td>\n",
       "      <td>7.650</td>\n",
       "      <td>7.440</td>\n",
       "      <td>7.470</td>\n",
       "      <td>7.44</td>\n",
       "      <td>494055</td>\n",
       "      <td>146.64</td>\n",
       "      <td>243.456</td>\n",
       "      <td>Drama</td>\n",
       "      <td>42</td>\n",
       "      <td>PG</td>\n",
       "      <td>462</td>\n",
       "      <td>NO</td>\n",
       "    </tr>\n",
       "    <tr>\n",
       "      <th>2</th>\n",
       "      <td>20.5458</td>\n",
       "      <td>69.14</td>\n",
       "      <td>0.531</td>\n",
       "      <td>39912.675</td>\n",
       "      <td>134.6</td>\n",
       "      <td>7.485</td>\n",
       "      <td>7.570</td>\n",
       "      <td>7.495</td>\n",
       "      <td>7.515</td>\n",
       "      <td>7.44</td>\n",
       "      <td>547051</td>\n",
       "      <td>147.88</td>\n",
       "      <td>2022.400</td>\n",
       "      <td>Comedy</td>\n",
       "      <td>38</td>\n",
       "      <td>PG</td>\n",
       "      <td>458</td>\n",
       "      <td>NO</td>\n",
       "    </tr>\n",
       "    <tr>\n",
       "      <th>3</th>\n",
       "      <td>20.6474</td>\n",
       "      <td>59.36</td>\n",
       "      <td>0.542</td>\n",
       "      <td>38873.890</td>\n",
       "      <td>119.3</td>\n",
       "      <td>6.895</td>\n",
       "      <td>7.035</td>\n",
       "      <td>6.920</td>\n",
       "      <td>7.020</td>\n",
       "      <td>8.26</td>\n",
       "      <td>516279</td>\n",
       "      <td>185.36</td>\n",
       "      <td>225.344</td>\n",
       "      <td>Drama</td>\n",
       "      <td>45</td>\n",
       "      <td>PG</td>\n",
       "      <td>472</td>\n",
       "      <td>YES</td>\n",
       "    </tr>\n",
       "    <tr>\n",
       "      <th>4</th>\n",
       "      <td>21.3810</td>\n",
       "      <td>59.36</td>\n",
       "      <td>0.542</td>\n",
       "      <td>39701.585</td>\n",
       "      <td>127.7</td>\n",
       "      <td>6.920</td>\n",
       "      <td>7.070</td>\n",
       "      <td>6.815</td>\n",
       "      <td>7.070</td>\n",
       "      <td>8.26</td>\n",
       "      <td>531448</td>\n",
       "      <td>176.48</td>\n",
       "      <td>225.792</td>\n",
       "      <td>Drama</td>\n",
       "      <td>55</td>\n",
       "      <td>PG</td>\n",
       "      <td>395</td>\n",
       "      <td>NO</td>\n",
       "    </tr>\n",
       "  </tbody>\n",
       "</table>\n",
       "</div>"
      ],
      "text/plain": [
       "   Marketin_expense  Production_expense  Multiplex_coverage     Budget  \\\n",
       "0           20.1264               59.62               0.462  36524.125   \n",
       "1           20.5462               69.14               0.531  35668.655   \n",
       "2           20.5458               69.14               0.531  39912.675   \n",
       "3           20.6474               59.36               0.542  38873.890   \n",
       "4           21.3810               59.36               0.542  39701.585   \n",
       "\n",
       "   Movie_length  Lead_ Actor_Rating  Lead_Actress_rating  Director_rating  \\\n",
       "0         138.7               7.825                8.095            7.910   \n",
       "1         152.4               7.505                7.650            7.440   \n",
       "2         134.6               7.485                7.570            7.495   \n",
       "3         119.3               6.895                7.035            6.920   \n",
       "4         127.7               6.920                7.070            6.815   \n",
       "\n",
       "   Producer_rating  Critic_rating  Trailer_views  Time_taken  Twitter_hastags  \\\n",
       "0            7.995           7.94         527367      109.60          223.840   \n",
       "1            7.470           7.44         494055      146.64          243.456   \n",
       "2            7.515           7.44         547051      147.88         2022.400   \n",
       "3            7.020           8.26         516279      185.36          225.344   \n",
       "4            7.070           8.26         531448      176.48          225.792   \n",
       "\n",
       "      Genre  Avg_age_actors MPAA_film_rating  Num_multiplex 3D_available  \n",
       "0  Thriller              23               PG            494          YES  \n",
       "1     Drama              42               PG            462           NO  \n",
       "2    Comedy              38               PG            458           NO  \n",
       "3     Drama              45               PG            472          YES  \n",
       "4     Drama              55               PG            395           NO  "
      ]
     },
     "execution_count": 236,
     "metadata": {},
     "output_type": "execute_result"
    }
   ],
   "source": [
    "x = df.iloc[:,1:]\n",
    "x.head()"
   ]
  },
  {
   "cell_type": "code",
   "execution_count": 237,
   "id": "1f117c1a",
   "metadata": {},
   "outputs": [
    {
     "data": {
      "text/plain": [
       "0    48000\n",
       "1    43200\n",
       "2    69400\n",
       "3    66800\n",
       "4    72400\n",
       "Name: Collection, dtype: int64"
      ]
     },
     "execution_count": 237,
     "metadata": {},
     "output_type": "execute_result"
    }
   ],
   "source": [
    "y = df['Collection']\n",
    "y.head()"
   ]
  },
  {
   "cell_type": "code",
   "execution_count": null,
   "id": "b35e0f04",
   "metadata": {},
   "outputs": [],
   "source": []
  },
  {
   "cell_type": "markdown",
   "id": "f58ce5b7",
   "metadata": {},
   "source": [
    "# Data Visualization on Numerical Data"
   ]
  },
  {
   "cell_type": "code",
   "execution_count": 238,
   "id": "44f300f9",
   "metadata": {},
   "outputs": [
    {
     "data": {
      "text/plain": [
       "<seaborn.axisgrid.JointGrid at 0x1aa2fc2df10>"
      ]
     },
     "execution_count": 238,
     "metadata": {},
     "output_type": "execute_result"
    },
    {
     "data": {
      "image/png": "[encoded data removed]",
      "text/plain": [
       "<Figure size 600x600 with 3 Axes>"
      ]
     },
     "metadata": {},
     "output_type": "display_data"
    }
   ],
   "source": [
    "sns.jointplot(x = 'Twitter_hastags', y = 'Collection', data=df)"
   ]
  },
  {
   "cell_type": "code",
   "execution_count": 239,
   "id": "f6ad22f3",
   "metadata": {},
   "outputs": [
    {
     "data": {
      "text/plain": [
       "<seaborn.axisgrid.JointGrid at 0x1aa1f982850>"
      ]
     },
     "execution_count": 239,
     "metadata": {},
     "output_type": "execute_result"
    },
    {
     "data": {
      "image/png": "[encoded data removed]",
      "text/plain": [
       "<Figure size 600x600 with 3 Axes>"
      ]
     },
     "metadata": {},
     "output_type": "display_data"
    }
   ],
   "source": [
    "sns.jointplot(x = 'Avg_age_actors', y = 'Collection', data=df)"
   ]
  },
  {
   "cell_type": "code",
   "execution_count": 240,
   "id": "3b66fe7a",
   "metadata": {},
   "outputs": [
    {
     "data": {
      "text/plain": [
       "<seaborn.axisgrid.JointGrid at 0x1aa29176a90>"
      ]
     },
     "execution_count": 240,
     "metadata": {},
     "output_type": "execute_result"
    },
    {
     "data": {
      "image/png": "[encoded data removed]",
      "text/plain": [
       "<Figure size 600x600 with 3 Axes>"
      ]
     },
     "metadata": {},
     "output_type": "display_data"
    }
   ],
   "source": [
    "sns.jointplot(x = 'Marketin_expense', y = 'Collection', data=df)"
   ]
  },
  {
   "cell_type": "markdown",
   "id": "8a267a4b",
   "metadata": {},
   "source": [
    "# Outlier Treatment on Twitter_hastags"
   ]
  },
  {
   "cell_type": "code",
   "execution_count": 241,
   "id": "aa40ba7f",
   "metadata": {},
   "outputs": [],
   "source": [
    "uv = np.percentile(df.Twitter_hastags, [99])[0]"
   ]
  },
  {
   "cell_type": "code",
   "execution_count": 242,
   "id": "498f4fca",
   "metadata": {},
   "outputs": [
    {
     "data": {
      "text/html": [
       "<div>\n",
       "<style scoped>\n",
       "    .dataframe tbody tr th:only-of-type {\n",
       "        vertical-align: middle;\n",
       "    }\n",
       "\n",
       "    .dataframe tbody tr th {\n",
       "        vertical-align: top;\n",
       "    }\n",
       "\n",
       "    .dataframe thead th {\n",
       "        text-align: right;\n",
       "    }\n",
       "</style>\n",
       "<table border=\"1\" class=\"dataframe\">\n",
       "  <thead>\n",
       "    <tr style=\"text-align: right;\">\n",
       "      <th></th>\n",
       "      <th>Collection</th>\n",
       "      <th>Marketin_expense</th>\n",
       "      <th>Production_expense</th>\n",
       "      <th>Multiplex_coverage</th>\n",
       "      <th>Budget</th>\n",
       "      <th>Movie_length</th>\n",
       "      <th>Lead_ Actor_Rating</th>\n",
       "      <th>Lead_Actress_rating</th>\n",
       "      <th>Director_rating</th>\n",
       "      <th>Producer_rating</th>\n",
       "      <th>Critic_rating</th>\n",
       "      <th>Trailer_views</th>\n",
       "      <th>Time_taken</th>\n",
       "      <th>Twitter_hastags</th>\n",
       "      <th>Genre</th>\n",
       "      <th>Avg_age_actors</th>\n",
       "      <th>MPAA_film_rating</th>\n",
       "      <th>Num_multiplex</th>\n",
       "      <th>3D_available</th>\n",
       "    </tr>\n",
       "  </thead>\n",
       "  <tbody>\n",
       "    <tr>\n",
       "      <th>2</th>\n",
       "      <td>69400</td>\n",
       "      <td>20.5458</td>\n",
       "      <td>69.14</td>\n",
       "      <td>0.531</td>\n",
       "      <td>39912.675</td>\n",
       "      <td>134.6</td>\n",
       "      <td>7.485</td>\n",
       "      <td>7.57</td>\n",
       "      <td>7.495</td>\n",
       "      <td>7.515</td>\n",
       "      <td>7.44</td>\n",
       "      <td>547051</td>\n",
       "      <td>147.88</td>\n",
       "      <td>2022.4</td>\n",
       "      <td>Comedy</td>\n",
       "      <td>38</td>\n",
       "      <td>PG</td>\n",
       "      <td>458</td>\n",
       "      <td>NO</td>\n",
       "    </tr>\n",
       "  </tbody>\n",
       "</table>\n",
       "</div>"
      ],
      "text/plain": [
       "   Collection  Marketin_expense  Production_expense  Multiplex_coverage  \\\n",
       "2       69400           20.5458               69.14               0.531   \n",
       "\n",
       "      Budget  Movie_length  Lead_ Actor_Rating  Lead_Actress_rating  \\\n",
       "2  39912.675         134.6               7.485                 7.57   \n",
       "\n",
       "   Director_rating  Producer_rating  Critic_rating  Trailer_views  Time_taken  \\\n",
       "2            7.495            7.515           7.44         547051      147.88   \n",
       "\n",
       "   Twitter_hastags   Genre  Avg_age_actors MPAA_film_rating  Num_multiplex  \\\n",
       "2           2022.4  Comedy              38               PG            458   \n",
       "\n",
       "  3D_available  \n",
       "2           NO  "
      ]
     },
     "execution_count": 242,
     "metadata": {},
     "output_type": "execute_result"
    }
   ],
   "source": [
    "df[(df.Twitter_hastags > uv)]"
   ]
  },
  {
   "cell_type": "code",
   "execution_count": 243,
   "id": "50743ac0",
   "metadata": {},
   "outputs": [
    {
     "name": "stderr",
     "output_type": "stream",
     "text": [
      "C:\\Users\\DOREEN DOMPREH\\AppData\\Local\\Temp\\ipykernel_4712\\712440270.py:1: SettingWithCopyWarning: \n",
      "A value is trying to be set on a copy of a slice from a DataFrame\n",
      "\n",
      "See the caveats in the documentation: https://pandas.pydata.org/pandas-docs/stable/user_guide/indexing.html#returning-a-view-versus-a-copy\n",
      "  df.Twitter_hastags[(df.Twitter_hastags > 3 * uv)] = 3 * uv\n"
     ]
    }
   ],
   "source": [
    "df.Twitter_hastags[(df.Twitter_hastags > 3 * uv)] = 3 * uv"
   ]
  },
  {
   "cell_type": "code",
   "execution_count": 244,
   "id": "05cd295f",
   "metadata": {},
   "outputs": [
    {
     "data": {
      "text/html": [
       "<div>\n",
       "<style scoped>\n",
       "    .dataframe tbody tr th:only-of-type {\n",
       "        vertical-align: middle;\n",
       "    }\n",
       "\n",
       "    .dataframe tbody tr th {\n",
       "        vertical-align: top;\n",
       "    }\n",
       "\n",
       "    .dataframe thead th {\n",
       "        text-align: right;\n",
       "    }\n",
       "</style>\n",
       "<table border=\"1\" class=\"dataframe\">\n",
       "  <thead>\n",
       "    <tr style=\"text-align: right;\">\n",
       "      <th></th>\n",
       "      <th>Collection</th>\n",
       "      <th>Marketin_expense</th>\n",
       "      <th>Production_expense</th>\n",
       "      <th>Multiplex_coverage</th>\n",
       "      <th>Budget</th>\n",
       "      <th>Movie_length</th>\n",
       "      <th>Lead_ Actor_Rating</th>\n",
       "      <th>Lead_Actress_rating</th>\n",
       "      <th>Director_rating</th>\n",
       "      <th>Producer_rating</th>\n",
       "      <th>Critic_rating</th>\n",
       "      <th>Trailer_views</th>\n",
       "      <th>Time_taken</th>\n",
       "      <th>Twitter_hastags</th>\n",
       "      <th>Genre</th>\n",
       "      <th>Avg_age_actors</th>\n",
       "      <th>MPAA_film_rating</th>\n",
       "      <th>Num_multiplex</th>\n",
       "      <th>3D_available</th>\n",
       "    </tr>\n",
       "  </thead>\n",
       "  <tbody>\n",
       "    <tr>\n",
       "      <th>2</th>\n",
       "      <td>69400</td>\n",
       "      <td>20.5458</td>\n",
       "      <td>69.14</td>\n",
       "      <td>0.531</td>\n",
       "      <td>39912.675</td>\n",
       "      <td>134.6</td>\n",
       "      <td>7.485</td>\n",
       "      <td>7.57</td>\n",
       "      <td>7.495</td>\n",
       "      <td>7.515</td>\n",
       "      <td>7.44</td>\n",
       "      <td>547051</td>\n",
       "      <td>147.88</td>\n",
       "      <td>924.0</td>\n",
       "      <td>Comedy</td>\n",
       "      <td>38</td>\n",
       "      <td>PG</td>\n",
       "      <td>458</td>\n",
       "      <td>NO</td>\n",
       "    </tr>\n",
       "  </tbody>\n",
       "</table>\n",
       "</div>"
      ],
      "text/plain": [
       "   Collection  Marketin_expense  Production_expense  Multiplex_coverage  \\\n",
       "2       69400           20.5458               69.14               0.531   \n",
       "\n",
       "      Budget  Movie_length  Lead_ Actor_Rating  Lead_Actress_rating  \\\n",
       "2  39912.675         134.6               7.485                 7.57   \n",
       "\n",
       "   Director_rating  Producer_rating  Critic_rating  Trailer_views  Time_taken  \\\n",
       "2            7.495            7.515           7.44         547051      147.88   \n",
       "\n",
       "   Twitter_hastags   Genre  Avg_age_actors MPAA_film_rating  Num_multiplex  \\\n",
       "2            924.0  Comedy              38               PG            458   \n",
       "\n",
       "  3D_available  \n",
       "2           NO  "
      ]
     },
     "execution_count": 244,
     "metadata": {},
     "output_type": "execute_result"
    }
   ],
   "source": [
    "df[(df.Twitter_hastags > uv)]"
   ]
  },
  {
   "cell_type": "markdown",
   "id": "79e90be5",
   "metadata": {},
   "source": [
    "# Outlier Treatment on Avg_age_actors"
   ]
  },
  {
   "cell_type": "code",
   "execution_count": 245,
   "id": "812bf761",
   "metadata": {},
   "outputs": [],
   "source": [
    "lv = np.percentile(df.Avg_age_actors, [1])[0]"
   ]
  },
  {
   "cell_type": "code",
   "execution_count": 246,
   "id": "afd1b1aa",
   "metadata": {},
   "outputs": [
    {
     "data": {
      "text/html": [
       "<div>\n",
       "<style scoped>\n",
       "    .dataframe tbody tr th:only-of-type {\n",
       "        vertical-align: middle;\n",
       "    }\n",
       "\n",
       "    .dataframe tbody tr th {\n",
       "        vertical-align: top;\n",
       "    }\n",
       "\n",
       "    .dataframe thead th {\n",
       "        text-align: right;\n",
       "    }\n",
       "</style>\n",
       "<table border=\"1\" class=\"dataframe\">\n",
       "  <thead>\n",
       "    <tr style=\"text-align: right;\">\n",
       "      <th></th>\n",
       "      <th>Collection</th>\n",
       "      <th>Marketin_expense</th>\n",
       "      <th>Production_expense</th>\n",
       "      <th>Multiplex_coverage</th>\n",
       "      <th>Budget</th>\n",
       "      <th>Movie_length</th>\n",
       "      <th>Lead_ Actor_Rating</th>\n",
       "      <th>Lead_Actress_rating</th>\n",
       "      <th>Director_rating</th>\n",
       "      <th>Producer_rating</th>\n",
       "      <th>Critic_rating</th>\n",
       "      <th>Trailer_views</th>\n",
       "      <th>Time_taken</th>\n",
       "      <th>Twitter_hastags</th>\n",
       "      <th>Genre</th>\n",
       "      <th>Avg_age_actors</th>\n",
       "      <th>MPAA_film_rating</th>\n",
       "      <th>Num_multiplex</th>\n",
       "      <th>3D_available</th>\n",
       "    </tr>\n",
       "  </thead>\n",
       "  <tbody>\n",
       "    <tr>\n",
       "      <th>213</th>\n",
       "      <td>56200</td>\n",
       "      <td>22.8104</td>\n",
       "      <td>76.18</td>\n",
       "      <td>0.511</td>\n",
       "      <td>35413.125</td>\n",
       "      <td>105.8</td>\n",
       "      <td>7.945</td>\n",
       "      <td>8.04</td>\n",
       "      <td>7.91</td>\n",
       "      <td>8.215</td>\n",
       "      <td>7.28</td>\n",
       "      <td>504226</td>\n",
       "      <td>151.24</td>\n",
       "      <td>204.496</td>\n",
       "      <td>Comedy</td>\n",
       "      <td>3</td>\n",
       "      <td>PG</td>\n",
       "      <td>441</td>\n",
       "      <td>YES</td>\n",
       "    </tr>\n",
       "  </tbody>\n",
       "</table>\n",
       "</div>"
      ],
      "text/plain": [
       "     Collection  Marketin_expense  Production_expense  Multiplex_coverage  \\\n",
       "213       56200           22.8104               76.18               0.511   \n",
       "\n",
       "        Budget  Movie_length  Lead_ Actor_Rating  Lead_Actress_rating  \\\n",
       "213  35413.125         105.8               7.945                 8.04   \n",
       "\n",
       "     Director_rating  Producer_rating  Critic_rating  Trailer_views  \\\n",
       "213             7.91            8.215           7.28         504226   \n",
       "\n",
       "     Time_taken  Twitter_hastags   Genre  Avg_age_actors MPAA_film_rating  \\\n",
       "213      151.24          204.496  Comedy               3               PG   \n",
       "\n",
       "     Num_multiplex 3D_available  \n",
       "213            441          YES  "
      ]
     },
     "execution_count": 246,
     "metadata": {},
     "output_type": "execute_result"
    }
   ],
   "source": [
    "df[(df.Avg_age_actors < lv)]"
   ]
  },
  {
   "cell_type": "code",
   "execution_count": 247,
   "id": "9a33f0dd",
   "metadata": {},
   "outputs": [
    {
     "name": "stderr",
     "output_type": "stream",
     "text": [
      "C:\\Users\\DOREEN DOMPREH\\AppData\\Local\\Temp\\ipykernel_4712\\3191150006.py:1: SettingWithCopyWarning: \n",
      "A value is trying to be set on a copy of a slice from a DataFrame\n",
      "\n",
      "See the caveats in the documentation: https://pandas.pydata.org/pandas-docs/stable/user_guide/indexing.html#returning-a-view-versus-a-copy\n",
      "  df.Avg_age_actors[(df.Avg_age_actors < 0.3 * lv)] = 0.3 * lv\n"
     ]
    }
   ],
   "source": [
    "df.Avg_age_actors[(df.Avg_age_actors < 0.3 * lv)] = 0.3 * lv"
   ]
  },
  {
   "cell_type": "code",
   "execution_count": 248,
   "id": "d2e6d769",
   "metadata": {},
   "outputs": [
    {
     "data": {
      "text/html": [
       "<div>\n",
       "<style scoped>\n",
       "    .dataframe tbody tr th:only-of-type {\n",
       "        vertical-align: middle;\n",
       "    }\n",
       "\n",
       "    .dataframe tbody tr th {\n",
       "        vertical-align: top;\n",
       "    }\n",
       "\n",
       "    .dataframe thead th {\n",
       "        text-align: right;\n",
       "    }\n",
       "</style>\n",
       "<table border=\"1\" class=\"dataframe\">\n",
       "  <thead>\n",
       "    <tr style=\"text-align: right;\">\n",
       "      <th></th>\n",
       "      <th>Collection</th>\n",
       "      <th>Marketin_expense</th>\n",
       "      <th>Production_expense</th>\n",
       "      <th>Multiplex_coverage</th>\n",
       "      <th>Budget</th>\n",
       "      <th>Movie_length</th>\n",
       "      <th>Lead_ Actor_Rating</th>\n",
       "      <th>Lead_Actress_rating</th>\n",
       "      <th>Director_rating</th>\n",
       "      <th>Producer_rating</th>\n",
       "      <th>Critic_rating</th>\n",
       "      <th>Trailer_views</th>\n",
       "      <th>Time_taken</th>\n",
       "      <th>Twitter_hastags</th>\n",
       "      <th>Genre</th>\n",
       "      <th>Avg_age_actors</th>\n",
       "      <th>MPAA_film_rating</th>\n",
       "      <th>Num_multiplex</th>\n",
       "      <th>3D_available</th>\n",
       "    </tr>\n",
       "  </thead>\n",
       "  <tbody>\n",
       "    <tr>\n",
       "      <th>213</th>\n",
       "      <td>56200</td>\n",
       "      <td>22.8104</td>\n",
       "      <td>76.18</td>\n",
       "      <td>0.511</td>\n",
       "      <td>35413.125</td>\n",
       "      <td>105.8</td>\n",
       "      <td>7.945</td>\n",
       "      <td>8.04</td>\n",
       "      <td>7.91</td>\n",
       "      <td>8.215</td>\n",
       "      <td>7.28</td>\n",
       "      <td>504226</td>\n",
       "      <td>151.24</td>\n",
       "      <td>204.496</td>\n",
       "      <td>Comedy</td>\n",
       "      <td>6</td>\n",
       "      <td>PG</td>\n",
       "      <td>441</td>\n",
       "      <td>YES</td>\n",
       "    </tr>\n",
       "  </tbody>\n",
       "</table>\n",
       "</div>"
      ],
      "text/plain": [
       "     Collection  Marketin_expense  Production_expense  Multiplex_coverage  \\\n",
       "213       56200           22.8104               76.18               0.511   \n",
       "\n",
       "        Budget  Movie_length  Lead_ Actor_Rating  Lead_Actress_rating  \\\n",
       "213  35413.125         105.8               7.945                 8.04   \n",
       "\n",
       "     Director_rating  Producer_rating  Critic_rating  Trailer_views  \\\n",
       "213             7.91            8.215           7.28         504226   \n",
       "\n",
       "     Time_taken  Twitter_hastags   Genre  Avg_age_actors MPAA_film_rating  \\\n",
       "213      151.24          204.496  Comedy               6               PG   \n",
       "\n",
       "     Num_multiplex 3D_available  \n",
       "213            441          YES  "
      ]
     },
     "execution_count": 248,
     "metadata": {},
     "output_type": "execute_result"
    }
   ],
   "source": [
    "df[(df.Avg_age_actors < lv)]"
   ]
  },
  {
   "cell_type": "markdown",
   "id": "d692c06e",
   "metadata": {},
   "source": [
    "# Outlier Treatment or Variable Transformation on Marketin_expense\t"
   ]
  },
  {
   "cell_type": "code",
   "execution_count": 249,
   "id": "c6352fbd",
   "metadata": {},
   "outputs": [],
   "source": [
    "df.Marketin_expense = np.log(1 + df.Marketin_expense)"
   ]
  },
  {
   "cell_type": "code",
   "execution_count": 250,
   "id": "6b3f17f2",
   "metadata": {},
   "outputs": [
    {
     "data": {
      "text/plain": [
       "<seaborn.axisgrid.JointGrid at 0x1aa293bb2e0>"
      ]
     },
     "execution_count": 250,
     "metadata": {},
     "output_type": "execute_result"
    },
    {
     "data": {
      "image/png": "[encoded data removed]",
      "text/plain": [
       "<Figure size 600x600 with 3 Axes>"
      ]
     },
     "metadata": {},
     "output_type": "display_data"
    }
   ],
   "source": [
    "sns.jointplot(x = 'Marketin_expense', y = 'Collection', data=df)"
   ]
  },
  {
   "cell_type": "code",
   "execution_count": 251,
   "id": "1577c308",
   "metadata": {},
   "outputs": [],
   "source": [
    "# x.describe()"
   ]
  },
  {
   "cell_type": "markdown",
   "id": "9d43bcb3",
   "metadata": {},
   "source": [
    "# Data Visualization on Categorical Data"
   ]
  },
  {
   "cell_type": "code",
   "execution_count": 252,
   "id": "6d716da3",
   "metadata": {},
   "outputs": [
    {
     "data": {
      "text/plain": [
       "<Axes: xlabel='Genre', ylabel='count'>"
      ]
     },
     "execution_count": 252,
     "metadata": {},
     "output_type": "execute_result"
    },
    {
     "data": {
      "image/png": "[encoded data removed]",
      "text/plain": [
       "<Figure size 640x480 with 1 Axes>"
      ]
     },
     "metadata": {},
     "output_type": "display_data"
    }
   ],
   "source": [
    "sns.countplot(x='Genre', data=df)"
   ]
  },
  {
   "cell_type": "code",
   "execution_count": 253,
   "id": "6616dbc1",
   "metadata": {},
   "outputs": [
    {
     "data": {
      "text/plain": [
       "<Axes: xlabel='3D_available', ylabel='count'>"
      ]
     },
     "execution_count": 253,
     "metadata": {},
     "output_type": "execute_result"
    },
    {
     "data": {
      "image/png": "[encoded data removed]",
      "text/plain": [
       "<Figure size 640x480 with 1 Axes>"
      ]
     },
     "metadata": {},
     "output_type": "display_data"
    }
   ],
   "source": [
    "sns.countplot(x='3D_available', data=df)"
   ]
  },
  {
   "cell_type": "code",
   "execution_count": 254,
   "id": "fccf2c20",
   "metadata": {},
   "outputs": [
    {
     "data": {
      "text/plain": [
       "<Axes: xlabel='MPAA_film_rating', ylabel='count'>"
      ]
     },
     "execution_count": 254,
     "metadata": {},
     "output_type": "execute_result"
    },
    {
     "data": {
      "image/png": "[encoded data removed]",
      "text/plain": [
       "<Figure size 640x480 with 1 Axes>"
      ]
     },
     "metadata": {},
     "output_type": "display_data"
    }
   ],
   "source": [
    "sns.countplot(x='MPAA_film_rating', data=df)"
   ]
  },
  {
   "cell_type": "markdown",
   "id": "d63db76c",
   "metadata": {},
   "source": [
    "1. Constant values in MPAA_film_rating"
   ]
  },
  {
   "cell_type": "code",
   "execution_count": 255,
   "id": "0e8ec39a",
   "metadata": {},
   "outputs": [],
   "source": [
    "del df['MPAA_film_rating']"
   ]
  },
  {
   "cell_type": "markdown",
   "id": "dba054b6",
   "metadata": {},
   "source": [
    "# Fix Missing Values in Time_taken"
   ]
  },
  {
   "cell_type": "code",
   "execution_count": 256,
   "id": "2294bb76",
   "metadata": {},
   "outputs": [],
   "source": [
    "df['Time_taken'].fillna(df['Time_taken'].mean(), inplace=True)\n",
    "# df = df.fillna(df.mean())"
   ]
  },
  {
   "cell_type": "code",
   "execution_count": 257,
   "id": "170f24e2",
   "metadata": {},
   "outputs": [
    {
     "name": "stdout",
     "output_type": "stream",
     "text": [
      "<class 'pandas.core.frame.DataFrame'>\n",
      "RangeIndex: 400 entries, 0 to 399\n",
      "Data columns (total 18 columns):\n",
      " #   Column               Non-Null Count  Dtype  \n",
      "---  ------               --------------  -----  \n",
      " 0   Collection           400 non-null    int64  \n",
      " 1   Marketin_expense     400 non-null    float64\n",
      " 2   Production_expense   400 non-null    float64\n",
      " 3   Multiplex_coverage   400 non-null    float64\n",
      " 4   Budget               400 non-null    float64\n",
      " 5   Movie_length         400 non-null    float64\n",
      " 6   Lead_ Actor_Rating   400 non-null    float64\n",
      " 7   Lead_Actress_rating  400 non-null    float64\n",
      " 8   Director_rating      400 non-null    float64\n",
      " 9   Producer_rating      400 non-null    float64\n",
      " 10  Critic_rating        400 non-null    float64\n",
      " 11  Trailer_views        400 non-null    int64  \n",
      " 12  Time_taken           400 non-null    float64\n",
      " 13  Twitter_hastags      400 non-null    float64\n",
      " 14  Genre                400 non-null    object \n",
      " 15  Avg_age_actors       400 non-null    int64  \n",
      " 16  Num_multiplex        400 non-null    int64  \n",
      " 17  3D_available         400 non-null    object \n",
      "dtypes: float64(12), int64(4), object(2)\n",
      "memory usage: 56.4+ KB\n"
     ]
    }
   ],
   "source": [
    "df.info()"
   ]
  },
  {
   "cell_type": "code",
   "execution_count": 258,
   "id": "c6e15423",
   "metadata": {},
   "outputs": [],
   "source": [
    "df['Avg_rating'] = (df.Lead_Actress_rating+df.Director_rating+df.Producer_rating+df.Critic_rating)/4"
   ]
  },
  {
   "cell_type": "code",
   "execution_count": 259,
   "id": "394aa9d5",
   "metadata": {},
   "outputs": [],
   "source": [
    "del df['Critic_rating']"
   ]
  },
  {
   "cell_type": "code",
   "execution_count": 260,
   "id": "0d141c67",
   "metadata": {},
   "outputs": [],
   "source": [
    "del df['Producer_rating']"
   ]
  },
  {
   "cell_type": "code",
   "execution_count": 261,
   "id": "73db83ba",
   "metadata": {},
   "outputs": [],
   "source": [
    "del df['Director_rating']"
   ]
  },
  {
   "cell_type": "code",
   "execution_count": 262,
   "id": "35f2e590",
   "metadata": {},
   "outputs": [],
   "source": [
    "del df['Lead_Actress_rating']"
   ]
  },
  {
   "cell_type": "code",
   "execution_count": 263,
   "id": "30420bf9",
   "metadata": {},
   "outputs": [
    {
     "name": "stdout",
     "output_type": "stream",
     "text": [
      "<class 'pandas.core.frame.DataFrame'>\n",
      "RangeIndex: 400 entries, 0 to 399\n",
      "Data columns (total 15 columns):\n",
      " #   Column              Non-Null Count  Dtype  \n",
      "---  ------              --------------  -----  \n",
      " 0   Collection          400 non-null    int64  \n",
      " 1   Marketin_expense    400 non-null    float64\n",
      " 2   Production_expense  400 non-null    float64\n",
      " 3   Multiplex_coverage  400 non-null    float64\n",
      " 4   Budget              400 non-null    float64\n",
      " 5   Movie_length        400 non-null    float64\n",
      " 6   Lead_ Actor_Rating  400 non-null    float64\n",
      " 7   Trailer_views       400 non-null    int64  \n",
      " 8   Time_taken          400 non-null    float64\n",
      " 9   Twitter_hastags     400 non-null    float64\n",
      " 10  Genre               400 non-null    object \n",
      " 11  Avg_age_actors      400 non-null    int64  \n",
      " 12  Num_multiplex       400 non-null    int64  \n",
      " 13  3D_available        400 non-null    object \n",
      " 14  Avg_rating          400 non-null    float64\n",
      "dtypes: float64(9), int64(4), object(2)\n",
      "memory usage: 47.0+ KB\n"
     ]
    }
   ],
   "source": [
    "df.info()"
   ]
  },
  {
   "cell_type": "markdown",
   "id": "3bec4552",
   "metadata": {},
   "source": [
    "# Encode Categorical Data into Numerical Data"
   ]
  },
  {
   "cell_type": "code",
   "execution_count": 264,
   "id": "0ebbb4bd",
   "metadata": {},
   "outputs": [
    {
     "data": {
      "text/html": [
       "<div>\n",
       "<style scoped>\n",
       "    .dataframe tbody tr th:only-of-type {\n",
       "        vertical-align: middle;\n",
       "    }\n",
       "\n",
       "    .dataframe tbody tr th {\n",
       "        vertical-align: top;\n",
       "    }\n",
       "\n",
       "    .dataframe thead th {\n",
       "        text-align: right;\n",
       "    }\n",
       "</style>\n",
       "<table border=\"1\" class=\"dataframe\">\n",
       "  <thead>\n",
       "    <tr style=\"text-align: right;\">\n",
       "      <th></th>\n",
       "      <th>Collection</th>\n",
       "      <th>Marketin_expense</th>\n",
       "      <th>Production_expense</th>\n",
       "      <th>Multiplex_coverage</th>\n",
       "      <th>Budget</th>\n",
       "      <th>Movie_length</th>\n",
       "      <th>Lead_ Actor_Rating</th>\n",
       "      <th>Trailer_views</th>\n",
       "      <th>Time_taken</th>\n",
       "      <th>Twitter_hastags</th>\n",
       "      <th>Avg_age_actors</th>\n",
       "      <th>Num_multiplex</th>\n",
       "      <th>Avg_rating</th>\n",
       "      <th>Genre_Comedy</th>\n",
       "      <th>Genre_Drama</th>\n",
       "      <th>Genre_Thriller</th>\n",
       "      <th>3D_available_YES</th>\n",
       "    </tr>\n",
       "  </thead>\n",
       "  <tbody>\n",
       "    <tr>\n",
       "      <th>0</th>\n",
       "      <td>48000.0</td>\n",
       "      <td>3.050523</td>\n",
       "      <td>59.62</td>\n",
       "      <td>0.462</td>\n",
       "      <td>36524.125</td>\n",
       "      <td>138.7</td>\n",
       "      <td>7.825</td>\n",
       "      <td>527367.0</td>\n",
       "      <td>109.60</td>\n",
       "      <td>223.840</td>\n",
       "      <td>23.0</td>\n",
       "      <td>494.0</td>\n",
       "      <td>7.98500</td>\n",
       "      <td>0.0</td>\n",
       "      <td>0.0</td>\n",
       "      <td>1.0</td>\n",
       "      <td>1.0</td>\n",
       "    </tr>\n",
       "    <tr>\n",
       "      <th>1</th>\n",
       "      <td>43200.0</td>\n",
       "      <td>3.070199</td>\n",
       "      <td>69.14</td>\n",
       "      <td>0.531</td>\n",
       "      <td>35668.655</td>\n",
       "      <td>152.4</td>\n",
       "      <td>7.505</td>\n",
       "      <td>494055.0</td>\n",
       "      <td>146.64</td>\n",
       "      <td>243.456</td>\n",
       "      <td>42.0</td>\n",
       "      <td>462.0</td>\n",
       "      <td>7.50000</td>\n",
       "      <td>0.0</td>\n",
       "      <td>1.0</td>\n",
       "      <td>0.0</td>\n",
       "      <td>0.0</td>\n",
       "    </tr>\n",
       "    <tr>\n",
       "      <th>2</th>\n",
       "      <td>69400.0</td>\n",
       "      <td>3.070181</td>\n",
       "      <td>69.14</td>\n",
       "      <td>0.531</td>\n",
       "      <td>39912.675</td>\n",
       "      <td>134.6</td>\n",
       "      <td>7.485</td>\n",
       "      <td>547051.0</td>\n",
       "      <td>147.88</td>\n",
       "      <td>924.000</td>\n",
       "      <td>38.0</td>\n",
       "      <td>458.0</td>\n",
       "      <td>7.50500</td>\n",
       "      <td>1.0</td>\n",
       "      <td>0.0</td>\n",
       "      <td>0.0</td>\n",
       "      <td>0.0</td>\n",
       "    </tr>\n",
       "    <tr>\n",
       "      <th>3</th>\n",
       "      <td>66800.0</td>\n",
       "      <td>3.074885</td>\n",
       "      <td>59.36</td>\n",
       "      <td>0.542</td>\n",
       "      <td>38873.890</td>\n",
       "      <td>119.3</td>\n",
       "      <td>6.895</td>\n",
       "      <td>516279.0</td>\n",
       "      <td>185.36</td>\n",
       "      <td>225.344</td>\n",
       "      <td>45.0</td>\n",
       "      <td>472.0</td>\n",
       "      <td>7.30875</td>\n",
       "      <td>0.0</td>\n",
       "      <td>1.0</td>\n",
       "      <td>0.0</td>\n",
       "      <td>1.0</td>\n",
       "    </tr>\n",
       "    <tr>\n",
       "      <th>4</th>\n",
       "      <td>72400.0</td>\n",
       "      <td>3.108212</td>\n",
       "      <td>59.36</td>\n",
       "      <td>0.542</td>\n",
       "      <td>39701.585</td>\n",
       "      <td>127.7</td>\n",
       "      <td>6.920</td>\n",
       "      <td>531448.0</td>\n",
       "      <td>176.48</td>\n",
       "      <td>225.792</td>\n",
       "      <td>55.0</td>\n",
       "      <td>395.0</td>\n",
       "      <td>7.30375</td>\n",
       "      <td>0.0</td>\n",
       "      <td>1.0</td>\n",
       "      <td>0.0</td>\n",
       "      <td>0.0</td>\n",
       "    </tr>\n",
       "  </tbody>\n",
       "</table>\n",
       "</div>"
      ],
      "text/plain": [
       "   Collection  Marketin_expense  Production_expense  Multiplex_coverage  \\\n",
       "0     48000.0          3.050523               59.62               0.462   \n",
       "1     43200.0          3.070199               69.14               0.531   \n",
       "2     69400.0          3.070181               69.14               0.531   \n",
       "3     66800.0          3.074885               59.36               0.542   \n",
       "4     72400.0          3.108212               59.36               0.542   \n",
       "\n",
       "      Budget  Movie_length  Lead_ Actor_Rating  Trailer_views  Time_taken  \\\n",
       "0  36524.125         138.7               7.825       527367.0      109.60   \n",
       "1  35668.655         152.4               7.505       494055.0      146.64   \n",
       "2  39912.675         134.6               7.485       547051.0      147.88   \n",
       "3  38873.890         119.3               6.895       516279.0      185.36   \n",
       "4  39701.585         127.7               6.920       531448.0      176.48   \n",
       "\n",
       "   Twitter_hastags  Avg_age_actors  Num_multiplex  Avg_rating  Genre_Comedy  \\\n",
       "0          223.840            23.0          494.0     7.98500           0.0   \n",
       "1          243.456            42.0          462.0     7.50000           0.0   \n",
       "2          924.000            38.0          458.0     7.50500           1.0   \n",
       "3          225.344            45.0          472.0     7.30875           0.0   \n",
       "4          225.792            55.0          395.0     7.30375           0.0   \n",
       "\n",
       "   Genre_Drama  Genre_Thriller  3D_available_YES  \n",
       "0          0.0             1.0               1.0  \n",
       "1          1.0             0.0               0.0  \n",
       "2          0.0             0.0               0.0  \n",
       "3          1.0             0.0               1.0  \n",
       "4          1.0             0.0               0.0  "
      ]
     },
     "execution_count": 264,
     "metadata": {},
     "output_type": "execute_result"
    }
   ],
   "source": [
    "df = pd.get_dummies(df,drop_first=True).astype(float)\n",
    "df.head()"
   ]
  },
  {
   "cell_type": "code",
   "execution_count": 265,
   "id": "b431b4b4",
   "metadata": {},
   "outputs": [
    {
     "data": {
      "text/plain": [
       "Index(['Collection', 'Marketin_expense', 'Production_expense',\n",
       "       'Multiplex_coverage', 'Budget', 'Movie_length', 'Lead_ Actor_Rating',\n",
       "       'Trailer_views', 'Time_taken', 'Twitter_hastags', 'Avg_age_actors',\n",
       "       'Num_multiplex', 'Avg_rating', 'Genre_Comedy', 'Genre_Drama',\n",
       "       'Genre_Thriller', '3D_available_YES'],\n",
       "      dtype='object')"
      ]
     },
     "execution_count": 265,
     "metadata": {},
     "output_type": "execute_result"
    }
   ],
   "source": [
    "df.columns"
   ]
  },
  {
   "cell_type": "code",
   "execution_count": 266,
   "id": "fee2e4fa",
   "metadata": {},
   "outputs": [
    {
     "data": {
      "text/html": [
       "<div>\n",
       "<style scoped>\n",
       "    .dataframe tbody tr th:only-of-type {\n",
       "        vertical-align: middle;\n",
       "    }\n",
       "\n",
       "    .dataframe tbody tr th {\n",
       "        vertical-align: top;\n",
       "    }\n",
       "\n",
       "    .dataframe thead th {\n",
       "        text-align: right;\n",
       "    }\n",
       "</style>\n",
       "<table border=\"1\" class=\"dataframe\">\n",
       "  <thead>\n",
       "    <tr style=\"text-align: right;\">\n",
       "      <th></th>\n",
       "      <th>Marketin_expense</th>\n",
       "      <th>Production_expense</th>\n",
       "      <th>Multiplex_coverage</th>\n",
       "      <th>Budget</th>\n",
       "      <th>Movie_length</th>\n",
       "      <th>Lead_ Actor_Rating</th>\n",
       "      <th>Lead_Actress_rating</th>\n",
       "      <th>Director_rating</th>\n",
       "      <th>Producer_rating</th>\n",
       "      <th>Critic_rating</th>\n",
       "      <th>Trailer_views</th>\n",
       "      <th>Time_taken</th>\n",
       "      <th>Twitter_hastags</th>\n",
       "      <th>Avg_age_actors</th>\n",
       "      <th>Num_multiplex</th>\n",
       "      <th>Genre_Comedy</th>\n",
       "      <th>Genre_Drama</th>\n",
       "      <th>Genre_Thriller</th>\n",
       "      <th>3D_available_YES</th>\n",
       "    </tr>\n",
       "  </thead>\n",
       "  <tbody>\n",
       "    <tr>\n",
       "      <th>0</th>\n",
       "      <td>20.1264</td>\n",
       "      <td>59.62</td>\n",
       "      <td>0.462</td>\n",
       "      <td>36524.125</td>\n",
       "      <td>138.7</td>\n",
       "      <td>7.825</td>\n",
       "      <td>8.095</td>\n",
       "      <td>7.910</td>\n",
       "      <td>7.995</td>\n",
       "      <td>7.94</td>\n",
       "      <td>527367.0</td>\n",
       "      <td>109.60</td>\n",
       "      <td>223.840</td>\n",
       "      <td>23.0</td>\n",
       "      <td>494.0</td>\n",
       "      <td>0.0</td>\n",
       "      <td>0.0</td>\n",
       "      <td>1.0</td>\n",
       "      <td>1.0</td>\n",
       "    </tr>\n",
       "    <tr>\n",
       "      <th>1</th>\n",
       "      <td>20.5462</td>\n",
       "      <td>69.14</td>\n",
       "      <td>0.531</td>\n",
       "      <td>35668.655</td>\n",
       "      <td>152.4</td>\n",
       "      <td>7.505</td>\n",
       "      <td>7.650</td>\n",
       "      <td>7.440</td>\n",
       "      <td>7.470</td>\n",
       "      <td>7.44</td>\n",
       "      <td>494055.0</td>\n",
       "      <td>146.64</td>\n",
       "      <td>243.456</td>\n",
       "      <td>42.0</td>\n",
       "      <td>462.0</td>\n",
       "      <td>0.0</td>\n",
       "      <td>1.0</td>\n",
       "      <td>0.0</td>\n",
       "      <td>0.0</td>\n",
       "    </tr>\n",
       "    <tr>\n",
       "      <th>2</th>\n",
       "      <td>20.5458</td>\n",
       "      <td>69.14</td>\n",
       "      <td>0.531</td>\n",
       "      <td>39912.675</td>\n",
       "      <td>134.6</td>\n",
       "      <td>7.485</td>\n",
       "      <td>7.570</td>\n",
       "      <td>7.495</td>\n",
       "      <td>7.515</td>\n",
       "      <td>7.44</td>\n",
       "      <td>547051.0</td>\n",
       "      <td>147.88</td>\n",
       "      <td>2022.400</td>\n",
       "      <td>38.0</td>\n",
       "      <td>458.0</td>\n",
       "      <td>1.0</td>\n",
       "      <td>0.0</td>\n",
       "      <td>0.0</td>\n",
       "      <td>0.0</td>\n",
       "    </tr>\n",
       "    <tr>\n",
       "      <th>3</th>\n",
       "      <td>20.6474</td>\n",
       "      <td>59.36</td>\n",
       "      <td>0.542</td>\n",
       "      <td>38873.890</td>\n",
       "      <td>119.3</td>\n",
       "      <td>6.895</td>\n",
       "      <td>7.035</td>\n",
       "      <td>6.920</td>\n",
       "      <td>7.020</td>\n",
       "      <td>8.26</td>\n",
       "      <td>516279.0</td>\n",
       "      <td>185.36</td>\n",
       "      <td>225.344</td>\n",
       "      <td>45.0</td>\n",
       "      <td>472.0</td>\n",
       "      <td>0.0</td>\n",
       "      <td>1.0</td>\n",
       "      <td>0.0</td>\n",
       "      <td>1.0</td>\n",
       "    </tr>\n",
       "    <tr>\n",
       "      <th>4</th>\n",
       "      <td>21.3810</td>\n",
       "      <td>59.36</td>\n",
       "      <td>0.542</td>\n",
       "      <td>39701.585</td>\n",
       "      <td>127.7</td>\n",
       "      <td>6.920</td>\n",
       "      <td>7.070</td>\n",
       "      <td>6.815</td>\n",
       "      <td>7.070</td>\n",
       "      <td>8.26</td>\n",
       "      <td>531448.0</td>\n",
       "      <td>176.48</td>\n",
       "      <td>225.792</td>\n",
       "      <td>55.0</td>\n",
       "      <td>395.0</td>\n",
       "      <td>0.0</td>\n",
       "      <td>1.0</td>\n",
       "      <td>0.0</td>\n",
       "      <td>0.0</td>\n",
       "    </tr>\n",
       "  </tbody>\n",
       "</table>\n",
       "</div>"
      ],
      "text/plain": [
       "   Marketin_expense  Production_expense  Multiplex_coverage     Budget  \\\n",
       "0           20.1264               59.62               0.462  36524.125   \n",
       "1           20.5462               69.14               0.531  35668.655   \n",
       "2           20.5458               69.14               0.531  39912.675   \n",
       "3           20.6474               59.36               0.542  38873.890   \n",
       "4           21.3810               59.36               0.542  39701.585   \n",
       "\n",
       "   Movie_length  Lead_ Actor_Rating  Lead_Actress_rating  Director_rating  \\\n",
       "0         138.7               7.825                8.095            7.910   \n",
       "1         152.4               7.505                7.650            7.440   \n",
       "2         134.6               7.485                7.570            7.495   \n",
       "3         119.3               6.895                7.035            6.920   \n",
       "4         127.7               6.920                7.070            6.815   \n",
       "\n",
       "   Producer_rating  Critic_rating  Trailer_views  Time_taken  Twitter_hastags  \\\n",
       "0            7.995           7.94       527367.0      109.60          223.840   \n",
       "1            7.470           7.44       494055.0      146.64          243.456   \n",
       "2            7.515           7.44       547051.0      147.88         2022.400   \n",
       "3            7.020           8.26       516279.0      185.36          225.344   \n",
       "4            7.070           8.26       531448.0      176.48          225.792   \n",
       "\n",
       "   Avg_age_actors  Num_multiplex  Genre_Comedy  Genre_Drama  Genre_Thriller  \\\n",
       "0            23.0          494.0           0.0          0.0             1.0   \n",
       "1            42.0          462.0           0.0          1.0             0.0   \n",
       "2            38.0          458.0           1.0          0.0             0.0   \n",
       "3            45.0          472.0           0.0          1.0             0.0   \n",
       "4            55.0          395.0           0.0          1.0             0.0   \n",
       "\n",
       "   3D_available_YES  \n",
       "0               1.0  \n",
       "1               0.0  \n",
       "2               0.0  \n",
       "3               1.0  \n",
       "4               0.0  "
      ]
     },
     "execution_count": 266,
     "metadata": {},
     "output_type": "execute_result"
    }
   ],
   "source": [
    "x = pd.get_dummies(x,drop_first=True).astype(float)\n",
    "x.head()"
   ]
  },
  {
   "cell_type": "code",
   "execution_count": 267,
   "id": "005a693b",
   "metadata": {},
   "outputs": [
    {
     "name": "stdout",
     "output_type": "stream",
     "text": [
      "<class 'pandas.core.frame.DataFrame'>\n",
      "RangeIndex: 400 entries, 0 to 399\n",
      "Data columns (total 17 columns):\n",
      " #   Column              Non-Null Count  Dtype  \n",
      "---  ------              --------------  -----  \n",
      " 0   Collection          400 non-null    float64\n",
      " 1   Marketin_expense    400 non-null    float64\n",
      " 2   Production_expense  400 non-null    float64\n",
      " 3   Multiplex_coverage  400 non-null    float64\n",
      " 4   Budget              400 non-null    float64\n",
      " 5   Movie_length        400 non-null    float64\n",
      " 6   Lead_ Actor_Rating  400 non-null    float64\n",
      " 7   Trailer_views       400 non-null    float64\n",
      " 8   Time_taken          400 non-null    float64\n",
      " 9   Twitter_hastags     400 non-null    float64\n",
      " 10  Avg_age_actors      400 non-null    float64\n",
      " 11  Num_multiplex       400 non-null    float64\n",
      " 12  Avg_rating          400 non-null    float64\n",
      " 13  Genre_Comedy        400 non-null    float64\n",
      " 14  Genre_Drama         400 non-null    float64\n",
      " 15  Genre_Thriller      400 non-null    float64\n",
      " 16  3D_available_YES    400 non-null    float64\n",
      "dtypes: float64(17)\n",
      "memory usage: 53.2 KB\n"
     ]
    }
   ],
   "source": [
    "df.info()"
   ]
  },
  {
   "cell_type": "code",
   "execution_count": 268,
   "id": "ef972e0a",
   "metadata": {},
   "outputs": [],
   "source": [
    "# df['Multiplex_coverage']"
   ]
  },
  {
   "cell_type": "markdown",
   "id": "1ed50eb1",
   "metadata": {},
   "source": [
    "# Correlation Analysis"
   ]
  },
  {
   "cell_type": "code",
   "execution_count": 269,
   "id": "8179e921",
   "metadata": {},
   "outputs": [
    {
     "data": {
      "text/html": [
       "<div>\n",
       "<style scoped>\n",
       "    .dataframe tbody tr th:only-of-type {\n",
       "        vertical-align: middle;\n",
       "    }\n",
       "\n",
       "    .dataframe tbody tr th {\n",
       "        vertical-align: top;\n",
       "    }\n",
       "\n",
       "    .dataframe thead th {\n",
       "        text-align: right;\n",
       "    }\n",
       "</style>\n",
       "<table border=\"1\" class=\"dataframe\">\n",
       "  <thead>\n",
       "    <tr style=\"text-align: right;\">\n",
       "      <th></th>\n",
       "      <th>Collection</th>\n",
       "      <th>Marketin_expense</th>\n",
       "      <th>Production_expense</th>\n",
       "      <th>Multiplex_coverage</th>\n",
       "      <th>Budget</th>\n",
       "      <th>Movie_length</th>\n",
       "      <th>Lead_ Actor_Rating</th>\n",
       "      <th>Trailer_views</th>\n",
       "      <th>Time_taken</th>\n",
       "      <th>Twitter_hastags</th>\n",
       "      <th>Avg_age_actors</th>\n",
       "      <th>Num_multiplex</th>\n",
       "      <th>Avg_rating</th>\n",
       "      <th>Genre_Comedy</th>\n",
       "      <th>Genre_Drama</th>\n",
       "      <th>Genre_Thriller</th>\n",
       "      <th>3D_available_YES</th>\n",
       "    </tr>\n",
       "  </thead>\n",
       "  <tbody>\n",
       "    <tr>\n",
       "      <th>Collection</th>\n",
       "      <td>1.000000</td>\n",
       "      <td>-0.309711</td>\n",
       "      <td>-0.373947</td>\n",
       "      <td>0.303971</td>\n",
       "      <td>0.754353</td>\n",
       "      <td>-0.278718</td>\n",
       "      <td>-0.110412</td>\n",
       "      <td>0.678691</td>\n",
       "      <td>0.140573</td>\n",
       "      <td>0.052651</td>\n",
       "      <td>-0.004951</td>\n",
       "      <td>-0.272365</td>\n",
       "      <td>-0.043533</td>\n",
       "      <td>-0.036113</td>\n",
       "      <td>0.020424</td>\n",
       "      <td>0.060124</td>\n",
       "      <td>0.192355</td>\n",
       "    </tr>\n",
       "    <tr>\n",
       "      <th>Marketin_expense</th>\n",
       "      <td>-0.309711</td>\n",
       "      <td>1.000000</td>\n",
       "      <td>0.615376</td>\n",
       "      <td>-0.707648</td>\n",
       "      <td>-0.306339</td>\n",
       "      <td>0.533402</td>\n",
       "      <td>0.557617</td>\n",
       "      <td>-0.526549</td>\n",
       "      <td>0.048600</td>\n",
       "      <td>0.049715</td>\n",
       "      <td>0.023778</td>\n",
       "      <td>0.636746</td>\n",
       "      <td>0.519950</td>\n",
       "      <td>0.035203</td>\n",
       "      <td>0.011118</td>\n",
       "      <td>-0.066084</td>\n",
       "      <td>-0.120489</td>\n",
       "    </tr>\n",
       "    <tr>\n",
       "      <th>Production_expense</th>\n",
       "      <td>-0.373947</td>\n",
       "      <td>0.615376</td>\n",
       "      <td>1.000000</td>\n",
       "      <td>-0.747325</td>\n",
       "      <td>-0.403334</td>\n",
       "      <td>0.609577</td>\n",
       "      <td>0.668242</td>\n",
       "      <td>-0.537165</td>\n",
       "      <td>0.024382</td>\n",
       "      <td>-0.057913</td>\n",
       "      <td>0.028625</td>\n",
       "      <td>0.691225</td>\n",
       "      <td>0.632831</td>\n",
       "      <td>0.040700</td>\n",
       "      <td>0.016143</td>\n",
       "      <td>-0.082437</td>\n",
       "      <td>-0.086836</td>\n",
       "    </tr>\n",
       "    <tr>\n",
       "      <th>Multiplex_coverage</th>\n",
       "      <td>0.303971</td>\n",
       "      <td>-0.707648</td>\n",
       "      <td>-0.747325</td>\n",
       "      <td>1.000000</td>\n",
       "      <td>0.314842</td>\n",
       "      <td>-0.714380</td>\n",
       "      <td>-0.749236</td>\n",
       "      <td>0.524445</td>\n",
       "      <td>0.027185</td>\n",
       "      <td>0.016897</td>\n",
       "      <td>-0.078275</td>\n",
       "      <td>-0.914065</td>\n",
       "      <td>-0.735173</td>\n",
       "      <td>-0.028551</td>\n",
       "      <td>0.008637</td>\n",
       "      <td>0.030138</td>\n",
       "      <td>0.065540</td>\n",
       "    </tr>\n",
       "    <tr>\n",
       "      <th>Budget</th>\n",
       "      <td>0.754353</td>\n",
       "      <td>-0.306339</td>\n",
       "      <td>-0.403334</td>\n",
       "      <td>0.314842</td>\n",
       "      <td>1.000000</td>\n",
       "      <td>-0.233983</td>\n",
       "      <td>-0.169458</td>\n",
       "      <td>0.632985</td>\n",
       "      <td>0.069261</td>\n",
       "      <td>0.045096</td>\n",
       "      <td>-0.043389</td>\n",
       "      <td>-0.290950</td>\n",
       "      <td>-0.114841</td>\n",
       "      <td>-0.051806</td>\n",
       "      <td>-0.024516</td>\n",
       "      <td>0.055914</td>\n",
       "      <td>0.167132</td>\n",
       "    </tr>\n",
       "    <tr>\n",
       "      <th>Movie_length</th>\n",
       "      <td>-0.278718</td>\n",
       "      <td>0.533402</td>\n",
       "      <td>0.609577</td>\n",
       "      <td>-0.714380</td>\n",
       "      <td>-0.233983</td>\n",
       "      <td>1.000000</td>\n",
       "      <td>0.723420</td>\n",
       "      <td>-0.554295</td>\n",
       "      <td>-0.005934</td>\n",
       "      <td>-0.008140</td>\n",
       "      <td>0.064616</td>\n",
       "      <td>0.655003</td>\n",
       "      <td>0.688717</td>\n",
       "      <td>0.075355</td>\n",
       "      <td>0.024897</td>\n",
       "      <td>-0.096724</td>\n",
       "      <td>0.021640</td>\n",
       "    </tr>\n",
       "    <tr>\n",
       "      <th>Lead_ Actor_Rating</th>\n",
       "      <td>-0.110412</td>\n",
       "      <td>0.557617</td>\n",
       "      <td>0.668242</td>\n",
       "      <td>-0.749236</td>\n",
       "      <td>-0.169458</td>\n",
       "      <td>0.723420</td>\n",
       "      <td>1.000000</td>\n",
       "      <td>-0.414194</td>\n",
       "      <td>0.058482</td>\n",
       "      <td>-0.004881</td>\n",
       "      <td>0.004460</td>\n",
       "      <td>0.686076</td>\n",
       "      <td>0.976471</td>\n",
       "      <td>0.014851</td>\n",
       "      <td>-0.016319</td>\n",
       "      <td>-0.017366</td>\n",
       "      <td>0.005008</td>\n",
       "    </tr>\n",
       "    <tr>\n",
       "      <th>Trailer_views</th>\n",
       "      <td>0.678691</td>\n",
       "      <td>-0.526549</td>\n",
       "      <td>-0.537165</td>\n",
       "      <td>0.524445</td>\n",
       "      <td>0.632985</td>\n",
       "      <td>-0.554295</td>\n",
       "      <td>-0.414194</td>\n",
       "      <td>1.000000</td>\n",
       "      <td>0.104337</td>\n",
       "      <td>0.033717</td>\n",
       "      <td>-0.004503</td>\n",
       "      <td>-0.498964</td>\n",
       "      <td>-0.372926</td>\n",
       "      <td>-0.101046</td>\n",
       "      <td>-0.025268</td>\n",
       "      <td>0.125530</td>\n",
       "      <td>0.091796</td>\n",
       "    </tr>\n",
       "    <tr>\n",
       "      <th>Time_taken</th>\n",
       "      <td>0.140573</td>\n",
       "      <td>0.048600</td>\n",
       "      <td>0.024382</td>\n",
       "      <td>0.027185</td>\n",
       "      <td>0.069261</td>\n",
       "      <td>-0.005934</td>\n",
       "      <td>0.058482</td>\n",
       "      <td>0.104337</td>\n",
       "      <td>1.000000</td>\n",
       "      <td>0.010841</td>\n",
       "      <td>0.035182</td>\n",
       "      <td>-0.056048</td>\n",
       "      <td>0.051347</td>\n",
       "      <td>-0.054714</td>\n",
       "      <td>0.084872</td>\n",
       "      <td>-0.047950</td>\n",
       "      <td>-0.035168</td>\n",
       "    </tr>\n",
       "    <tr>\n",
       "      <th>Twitter_hastags</th>\n",
       "      <td>0.052651</td>\n",
       "      <td>0.049715</td>\n",
       "      <td>-0.057913</td>\n",
       "      <td>0.016897</td>\n",
       "      <td>0.045096</td>\n",
       "      <td>-0.008140</td>\n",
       "      <td>-0.004881</td>\n",
       "      <td>0.033717</td>\n",
       "      <td>0.010841</td>\n",
       "      <td>1.000000</td>\n",
       "      <td>0.050787</td>\n",
       "      <td>-0.002665</td>\n",
       "      <td>-0.015585</td>\n",
       "      <td>0.075995</td>\n",
       "      <td>-0.031783</td>\n",
       "      <td>-0.066465</td>\n",
       "      <td>-0.035927</td>\n",
       "    </tr>\n",
       "    <tr>\n",
       "      <th>Avg_age_actors</th>\n",
       "      <td>-0.004951</td>\n",
       "      <td>0.023778</td>\n",
       "      <td>0.028625</td>\n",
       "      <td>-0.078275</td>\n",
       "      <td>-0.043389</td>\n",
       "      <td>0.064616</td>\n",
       "      <td>0.004460</td>\n",
       "      <td>-0.004503</td>\n",
       "      <td>0.035182</td>\n",
       "      <td>0.050787</td>\n",
       "      <td>1.000000</td>\n",
       "      <td>0.059223</td>\n",
       "      <td>0.005608</td>\n",
       "      <td>-0.042074</td>\n",
       "      <td>-0.020477</td>\n",
       "      <td>-0.004537</td>\n",
       "      <td>-0.030538</td>\n",
       "    </tr>\n",
       "    <tr>\n",
       "      <th>Num_multiplex</th>\n",
       "      <td>-0.272365</td>\n",
       "      <td>0.636746</td>\n",
       "      <td>0.691225</td>\n",
       "      <td>-0.914065</td>\n",
       "      <td>-0.290950</td>\n",
       "      <td>0.655003</td>\n",
       "      <td>0.686076</td>\n",
       "      <td>-0.498964</td>\n",
       "      <td>-0.056048</td>\n",
       "      <td>-0.002665</td>\n",
       "      <td>0.059223</td>\n",
       "      <td>1.000000</td>\n",
       "      <td>0.676983</td>\n",
       "      <td>0.033252</td>\n",
       "      <td>-0.010194</td>\n",
       "      <td>-0.047379</td>\n",
       "      <td>-0.049067</td>\n",
       "    </tr>\n",
       "    <tr>\n",
       "      <th>Avg_rating</th>\n",
       "      <td>-0.043533</td>\n",
       "      <td>0.519950</td>\n",
       "      <td>0.632831</td>\n",
       "      <td>-0.735173</td>\n",
       "      <td>-0.114841</td>\n",
       "      <td>0.688717</td>\n",
       "      <td>0.976471</td>\n",
       "      <td>-0.372926</td>\n",
       "      <td>0.051347</td>\n",
       "      <td>-0.015585</td>\n",
       "      <td>0.005608</td>\n",
       "      <td>0.676983</td>\n",
       "      <td>1.000000</td>\n",
       "      <td>0.021786</td>\n",
       "      <td>-0.007108</td>\n",
       "      <td>-0.030122</td>\n",
       "      <td>0.017242</td>\n",
       "    </tr>\n",
       "    <tr>\n",
       "      <th>Genre_Comedy</th>\n",
       "      <td>-0.036113</td>\n",
       "      <td>0.035203</td>\n",
       "      <td>0.040700</td>\n",
       "      <td>-0.028551</td>\n",
       "      <td>-0.051806</td>\n",
       "      <td>0.075355</td>\n",
       "      <td>0.014851</td>\n",
       "      <td>-0.101046</td>\n",
       "      <td>-0.054714</td>\n",
       "      <td>0.075995</td>\n",
       "      <td>-0.042074</td>\n",
       "      <td>0.033252</td>\n",
       "      <td>0.021786</td>\n",
       "      <td>1.000000</td>\n",
       "      <td>-0.320091</td>\n",
       "      <td>-0.494670</td>\n",
       "      <td>0.054472</td>\n",
       "    </tr>\n",
       "    <tr>\n",
       "      <th>Genre_Drama</th>\n",
       "      <td>0.020424</td>\n",
       "      <td>0.011118</td>\n",
       "      <td>0.016143</td>\n",
       "      <td>0.008637</td>\n",
       "      <td>-0.024516</td>\n",
       "      <td>0.024897</td>\n",
       "      <td>-0.016319</td>\n",
       "      <td>-0.025268</td>\n",
       "      <td>0.084872</td>\n",
       "      <td>-0.031783</td>\n",
       "      <td>-0.020477</td>\n",
       "      <td>-0.010194</td>\n",
       "      <td>-0.007108</td>\n",
       "      <td>-0.320091</td>\n",
       "      <td>1.000000</td>\n",
       "      <td>-0.392406</td>\n",
       "      <td>0.005348</td>\n",
       "    </tr>\n",
       "    <tr>\n",
       "      <th>Genre_Thriller</th>\n",
       "      <td>0.060124</td>\n",
       "      <td>-0.066084</td>\n",
       "      <td>-0.082437</td>\n",
       "      <td>0.030138</td>\n",
       "      <td>0.055914</td>\n",
       "      <td>-0.096724</td>\n",
       "      <td>-0.017366</td>\n",
       "      <td>0.125530</td>\n",
       "      <td>-0.047950</td>\n",
       "      <td>-0.066465</td>\n",
       "      <td>-0.004537</td>\n",
       "      <td>-0.047379</td>\n",
       "      <td>-0.030122</td>\n",
       "      <td>-0.494670</td>\n",
       "      <td>-0.392406</td>\n",
       "      <td>1.000000</td>\n",
       "      <td>0.001826</td>\n",
       "    </tr>\n",
       "    <tr>\n",
       "      <th>3D_available_YES</th>\n",
       "      <td>0.192355</td>\n",
       "      <td>-0.120489</td>\n",
       "      <td>-0.086836</td>\n",
       "      <td>0.065540</td>\n",
       "      <td>0.167132</td>\n",
       "      <td>0.021640</td>\n",
       "      <td>0.005008</td>\n",
       "      <td>0.091796</td>\n",
       "      <td>-0.035168</td>\n",
       "      <td>-0.035927</td>\n",
       "      <td>-0.030538</td>\n",
       "      <td>-0.049067</td>\n",
       "      <td>0.017242</td>\n",
       "      <td>0.054472</td>\n",
       "      <td>0.005348</td>\n",
       "      <td>0.001826</td>\n",
       "      <td>1.000000</td>\n",
       "    </tr>\n",
       "  </tbody>\n",
       "</table>\n",
       "</div>"
      ],
      "text/plain": [
       "                    Collection  Marketin_expense  Production_expense  \\\n",
       "Collection            1.000000         -0.309711           -0.373947   \n",
       "Marketin_expense     -0.309711          1.000000            0.615376   \n",
       "Production_expense   -0.373947          0.615376            1.000000   \n",
       "Multiplex_coverage    0.303971         -0.707648           -0.747325   \n",
       "Budget                0.754353         -0.306339           -0.403334   \n",
       "Movie_length         -0.278718          0.533402            0.609577   \n",
       "Lead_ Actor_Rating   -0.110412          0.557617            0.668242   \n",
       "Trailer_views         0.678691         -0.526549           -0.537165   \n",
       "Time_taken            0.140573          0.048600            0.024382   \n",
       "Twitter_hastags       0.052651          0.049715           -0.057913   \n",
       "Avg_age_actors       -0.004951          0.023778            0.028625   \n",
       "Num_multiplex        -0.272365          0.636746            0.691225   \n",
       "Avg_rating           -0.043533          0.519950            0.632831   \n",
       "Genre_Comedy         -0.036113          0.035203            0.040700   \n",
       "Genre_Drama           0.020424          0.011118            0.016143   \n",
       "Genre_Thriller        0.060124         -0.066084           -0.082437   \n",
       "3D_available_YES      0.192355         -0.120489           -0.086836   \n",
       "\n",
       "                    Multiplex_coverage    Budget  Movie_length  \\\n",
       "Collection                    0.303971  0.754353     -0.278718   \n",
       "Marketin_expense             -0.707648 -0.306339      0.533402   \n",
       "Production_expense           -0.747325 -0.403334      0.609577   \n",
       "Multiplex_coverage            1.000000  0.314842     -0.714380   \n",
       "Budget                        0.314842  1.000000     -0.233983   \n",
       "Movie_length                 -0.714380 -0.233983      1.000000   \n",
       "Lead_ Actor_Rating           -0.749236 -0.169458      0.723420   \n",
       "Trailer_views                 0.524445  0.632985     -0.554295   \n",
       "Time_taken                    0.027185  0.069261     -0.005934   \n",
       "Twitter_hastags               0.016897  0.045096     -0.008140   \n",
       "Avg_age_actors               -0.078275 -0.043389      0.064616   \n",
       "Num_multiplex                -0.914065 -0.290950      0.655003   \n",
       "Avg_rating                   -0.735173 -0.114841      0.688717   \n",
       "Genre_Comedy                 -0.028551 -0.051806      0.075355   \n",
       "Genre_Drama                   0.008637 -0.024516      0.024897   \n",
       "Genre_Thriller                0.030138  0.055914     -0.096724   \n",
       "3D_available_YES              0.065540  0.167132      0.021640   \n",
       "\n",
       "                    Lead_ Actor_Rating  Trailer_views  Time_taken  \\\n",
       "Collection                   -0.110412       0.678691    0.140573   \n",
       "Marketin_expense              0.557617      -0.526549    0.048600   \n",
       "Production_expense            0.668242      -0.537165    0.024382   \n",
       "Multiplex_coverage           -0.749236       0.524445    0.027185   \n",
       "Budget                       -0.169458       0.632985    0.069261   \n",
       "Movie_length                  0.723420      -0.554295   -0.005934   \n",
       "Lead_ Actor_Rating            1.000000      -0.414194    0.058482   \n",
       "Trailer_views                -0.414194       1.000000    0.104337   \n",
       "Time_taken                    0.058482       0.104337    1.000000   \n",
       "Twitter_hastags              -0.004881       0.033717    0.010841   \n",
       "Avg_age_actors                0.004460      -0.004503    0.035182   \n",
       "Num_multiplex                 0.686076      -0.498964   -0.056048   \n",
       "Avg_rating                    0.976471      -0.372926    0.051347   \n",
       "Genre_Comedy                  0.014851      -0.101046   -0.054714   \n",
       "Genre_Drama                  -0.016319      -0.025268    0.084872   \n",
       "Genre_Thriller               -0.017366       0.125530   -0.047950   \n",
       "3D_available_YES              0.005008       0.091796   -0.035168   \n",
       "\n",
       "                    Twitter_hastags  Avg_age_actors  Num_multiplex  \\\n",
       "Collection                 0.052651       -0.004951      -0.272365   \n",
       "Marketin_expense           0.049715        0.023778       0.636746   \n",
       "Production_expense        -0.057913        0.028625       0.691225   \n",
       "Multiplex_coverage         0.016897       -0.078275      -0.914065   \n",
       "Budget                     0.045096       -0.043389      -0.290950   \n",
       "Movie_length              -0.008140        0.064616       0.655003   \n",
       "Lead_ Actor_Rating        -0.004881        0.004460       0.686076   \n",
       "Trailer_views              0.033717       -0.004503      -0.498964   \n",
       "Time_taken                 0.010841        0.035182      -0.056048   \n",
       "Twitter_hastags            1.000000        0.050787      -0.002665   \n",
       "Avg_age_actors             0.050787        1.000000       0.059223   \n",
       "Num_multiplex             -0.002665        0.059223       1.000000   \n",
       "Avg_rating                -0.015585        0.005608       0.676983   \n",
       "Genre_Comedy               0.075995       -0.042074       0.033252   \n",
       "Genre_Drama               -0.031783       -0.020477      -0.010194   \n",
       "Genre_Thriller            -0.066465       -0.004537      -0.047379   \n",
       "3D_available_YES          -0.035927       -0.030538      -0.049067   \n",
       "\n",
       "                    Avg_rating  Genre_Comedy  Genre_Drama  Genre_Thriller  \\\n",
       "Collection           -0.043533     -0.036113     0.020424        0.060124   \n",
       "Marketin_expense      0.519950      0.035203     0.011118       -0.066084   \n",
       "Production_expense    0.632831      0.040700     0.016143       -0.082437   \n",
       "Multiplex_coverage   -0.735173     -0.028551     0.008637        0.030138   \n",
       "Budget               -0.114841     -0.051806    -0.024516        0.055914   \n",
       "Movie_length          0.688717      0.075355     0.024897       -0.096724   \n",
       "Lead_ Actor_Rating    0.976471      0.014851    -0.016319       -0.017366   \n",
       "Trailer_views        -0.372926     -0.101046    -0.025268        0.125530   \n",
       "Time_taken            0.051347     -0.054714     0.084872       -0.047950   \n",
       "Twitter_hastags      -0.015585      0.075995    -0.031783       -0.066465   \n",
       "Avg_age_actors        0.005608     -0.042074    -0.020477       -0.004537   \n",
       "Num_multiplex         0.676983      0.033252    -0.010194       -0.047379   \n",
       "Avg_rating            1.000000      0.021786    -0.007108       -0.030122   \n",
       "Genre_Comedy          0.021786      1.000000    -0.320091       -0.494670   \n",
       "Genre_Drama          -0.007108     -0.320091     1.000000       -0.392406   \n",
       "Genre_Thriller       -0.030122     -0.494670    -0.392406        1.000000   \n",
       "3D_available_YES      0.017242      0.054472     0.005348        0.001826   \n",
       "\n",
       "                    3D_available_YES  \n",
       "Collection                  0.192355  \n",
       "Marketin_expense           -0.120489  \n",
       "Production_expense         -0.086836  \n",
       "Multiplex_coverage          0.065540  \n",
       "Budget                      0.167132  \n",
       "Movie_length                0.021640  \n",
       "Lead_ Actor_Rating          0.005008  \n",
       "Trailer_views               0.091796  \n",
       "Time_taken                 -0.035168  \n",
       "Twitter_hastags            -0.035927  \n",
       "Avg_age_actors             -0.030538  \n",
       "Num_multiplex              -0.049067  \n",
       "Avg_rating                  0.017242  \n",
       "Genre_Comedy                0.054472  \n",
       "Genre_Drama                 0.005348  \n",
       "Genre_Thriller              0.001826  \n",
       "3D_available_YES            1.000000  "
      ]
     },
     "execution_count": 269,
     "metadata": {},
     "output_type": "execute_result"
    }
   ],
   "source": [
    "df.corr()"
   ]
  },
  {
   "cell_type": "code",
   "execution_count": 270,
   "id": "fed8dd17",
   "metadata": {},
   "outputs": [],
   "source": [
    "del df['Num_multiplex']"
   ]
  },
  {
   "cell_type": "code",
   "execution_count": 271,
   "id": "7864a70d",
   "metadata": {},
   "outputs": [],
   "source": [
    "del df['Lead_ Actor_Rating']"
   ]
  },
  {
   "cell_type": "markdown",
   "id": "efea464a",
   "metadata": {},
   "source": [
    "# Linear Regression Model"
   ]
  },
  {
   "cell_type": "code",
   "execution_count": 272,
   "id": "be0a18fb",
   "metadata": {},
   "outputs": [],
   "source": [
    "from sklearn.linear_model import LinearRegression"
   ]
  },
  {
   "cell_type": "code",
   "execution_count": 273,
   "id": "e38c53dd",
   "metadata": {},
   "outputs": [],
   "source": [
    "lm = LinearRegression()"
   ]
  },
  {
   "cell_type": "code",
   "execution_count": 274,
   "id": "9a78fa55",
   "metadata": {},
   "outputs": [],
   "source": [
    "x['Time_taken'].fillna(x['Time_taken'].mean(), inplace=True)\n"
   ]
  },
  {
   "cell_type": "code",
   "execution_count": 275,
   "id": "782c6a8a",
   "metadata": {},
   "outputs": [
    {
     "name": "stdout",
     "output_type": "stream",
     "text": [
      "<class 'pandas.core.frame.DataFrame'>\n",
      "RangeIndex: 400 entries, 0 to 399\n",
      "Data columns (total 19 columns):\n",
      " #   Column               Non-Null Count  Dtype  \n",
      "---  ------               --------------  -----  \n",
      " 0   Marketin_expense     400 non-null    float64\n",
      " 1   Production_expense   400 non-null    float64\n",
      " 2   Multiplex_coverage   400 non-null    float64\n",
      " 3   Budget               400 non-null    float64\n",
      " 4   Movie_length         400 non-null    float64\n",
      " 5   Lead_ Actor_Rating   400 non-null    float64\n",
      " 6   Lead_Actress_rating  400 non-null    float64\n",
      " 7   Director_rating      400 non-null    float64\n",
      " 8   Producer_rating      400 non-null    float64\n",
      " 9   Critic_rating        400 non-null    float64\n",
      " 10  Trailer_views        400 non-null    float64\n",
      " 11  Time_taken           400 non-null    float64\n",
      " 12  Twitter_hastags      400 non-null    float64\n",
      " 13  Avg_age_actors       400 non-null    float64\n",
      " 14  Num_multiplex        400 non-null    float64\n",
      " 15  Genre_Comedy         400 non-null    float64\n",
      " 16  Genre_Drama          400 non-null    float64\n",
      " 17  Genre_Thriller       400 non-null    float64\n",
      " 18  3D_available_YES     400 non-null    float64\n",
      "dtypes: float64(19)\n",
      "memory usage: 59.5 KB\n"
     ]
    }
   ],
   "source": [
    "x.info()"
   ]
  },
  {
   "cell_type": "code",
   "execution_count": 276,
   "id": "810a7fb0",
   "metadata": {},
   "outputs": [
    {
     "data": {
      "text/html": [
       "<style>#sk-container-id-2 {color: black;}#sk-container-id-2 pre{padding: 0;}#sk-container-id-2 div.sk-toggleable {background-color: white;}#sk-container-id-2 label.sk-toggleable__label {cursor: pointer;display: block;width: 100%;margin-bottom: 0;padding: 0.3em;box-sizing: border-box;text-align: center;}#sk-container-id-2 label.sk-toggleable__label-arrow:before {content: \"▸\";float: left;margin-right: 0.25em;color: #696969;}#sk-container-id-2 label.sk-toggleable__label-arrow:hover:before {color: black;}#sk-container-id-2 div.sk-estimator:hover label.sk-toggleable__label-arrow:before {color: black;}#sk-container-id-2 div.sk-toggleable__content {max-height: 0;max-width: 0;overflow: hidden;text-align: left;background-color: #f0f8ff;}#sk-container-id-2 div.sk-toggleable__content pre {margin: 0.2em;color: black;border-radius: 0.25em;background-color: #f0f8ff;}#sk-container-id-2 input.sk-toggleable__control:checked~div.sk-toggleable__content {max-height: 200px;max-width: 100%;overflow: auto;}#sk-container-id-2 input.sk-toggleable__control:checked~label.sk-toggleable__label-arrow:before {content: \"▾\";}#sk-container-id-2 div.sk-estimator input.sk-toggleable__control:checked~label.sk-toggleable__label {background-color: #d4ebff;}#sk-container-id-2 div.sk-label input.sk-toggleable__control:checked~label.sk-toggleable__label {background-color: #d4ebff;}#sk-container-id-2 input.sk-hidden--visually {border: 0;clip: rect(1px 1px 1px 1px);clip: rect(1px, 1px, 1px, 1px);height: 1px;margin: -1px;overflow: hidden;padding: 0;position: absolute;width: 1px;}#sk-container-id-2 div.sk-estimator {font-family: monospace;background-color: #f0f8ff;border: 1px dotted black;border-radius: 0.25em;box-sizing: border-box;margin-bottom: 0.5em;}#sk-container-id-2 div.sk-estimator:hover {background-color: #d4ebff;}#sk-container-id-2 div.sk-parallel-item::after {content: \"\";width: 100%;border-bottom: 1px solid gray;flex-grow: 1;}#sk-container-id-2 div.sk-label:hover label.sk-toggleable__label {background-color: #d4ebff;}#sk-container-id-2 div.sk-serial::before {content: \"\";position: absolute;border-left: 1px solid gray;box-sizing: border-box;top: 0;bottom: 0;left: 50%;z-index: 0;}#sk-container-id-2 div.sk-serial {display: flex;flex-direction: column;align-items: center;background-color: white;padding-right: 0.2em;padding-left: 0.2em;position: relative;}#sk-container-id-2 div.sk-item {position: relative;z-index: 1;}#sk-container-id-2 div.sk-parallel {display: flex;align-items: stretch;justify-content: center;background-color: white;position: relative;}#sk-container-id-2 div.sk-item::before, #sk-container-id-2 div.sk-parallel-item::before {content: \"\";position: absolute;border-left: 1px solid gray;box-sizing: border-box;top: 0;bottom: 0;left: 50%;z-index: -1;}#sk-container-id-2 div.sk-parallel-item {display: flex;flex-direction: column;z-index: 1;position: relative;background-color: white;}#sk-container-id-2 div.sk-parallel-item:first-child::after {align-self: flex-end;width: 50%;}#sk-container-id-2 div.sk-parallel-item:last-child::after {align-self: flex-start;width: 50%;}#sk-container-id-2 div.sk-parallel-item:only-child::after {width: 0;}#sk-container-id-2 div.sk-dashed-wrapped {border: 1px dashed gray;margin: 0 0.4em 0.5em 0.4em;box-sizing: border-box;padding-bottom: 0.4em;background-color: white;}#sk-container-id-2 div.sk-label label {font-family: monospace;font-weight: bold;display: inline-block;line-height: 1.2em;}#sk-container-id-2 div.sk-label-container {text-align: center;}#sk-container-id-2 div.sk-container {/* jupyter's `normalize.less` sets `[hidden] { display: none; }` but bootstrap.min.css set `[hidden] { display: none !important; }` so we also need the `!important` here to be able to override the default hidden behavior on the sphinx rendered scikit-learn.org. See: https://github.com/scikit-learn/scikit-learn/issues/21755 */display: inline-block !important;position: relative;}#sk-container-id-2 div.sk-text-repr-fallback {display: none;}</style><div id=\"sk-container-id-2\" class=\"sk-top-container\"><div class=\"sk-text-repr-fallback\"><pre>LinearRegression()</pre><b>In a Jupyter environment, please rerun this cell to show the HTML representation or trust the notebook. <br />On GitHub, the HTML representation is unable to render, please try loading this page with nbviewer.org.</b></div><div class=\"sk-container\" hidden><div class=\"sk-item\"><div class=\"sk-estimator sk-toggleable\"><input class=\"sk-toggleable__control sk-hidden--visually\" id=\"sk-estimator-id-2\" type=\"checkbox\" checked><label for=\"sk-estimator-id-2\" class=\"sk-toggleable__label sk-toggleable__label-arrow\">LinearRegression</label><div class=\"sk-toggleable__content\"><pre>LinearRegression()</pre></div></div></div></div></div>"
      ],
      "text/plain": [
       "LinearRegression()"
      ]
     },
     "execution_count": 276,
     "metadata": {},
     "output_type": "execute_result"
    }
   ],
   "source": [
    "lm.fit(x, y)"
   ]
  },
  {
   "cell_type": "code",
   "execution_count": 277,
   "id": "d0a25b6d",
   "metadata": {},
   "outputs": [
    {
     "name": "stdout",
     "output_type": "stream",
     "text": [
      "-147133.025922084 [-1.05661912e+01 -5.19677098e+01  1.92566345e+04  2.21467037e+00\n",
      " -4.46672706e+01  8.15884591e+03 -1.27120490e+04  1.14118827e+04\n",
      " -2.73385835e+03  3.34673188e+03  9.15852827e-02  3.90175874e+01\n",
      "  3.27738449e+00  4.48324462e+01  1.45464432e+01  4.16786185e+03\n",
      "  4.47540452e+03  3.03029313e+03  2.32968983e+03]\n"
     ]
    }
   ],
   "source": [
    "print(lm.intercept_, lm.coef_)"
   ]
  },
  {
   "cell_type": "code",
   "execution_count": 281,
   "id": "07255536",
   "metadata": {},
   "outputs": [
    {
     "data": {
      "text/plain": [
       "Index(['Collection', 'Marketin_expense', 'Production_expense',\n",
       "       'Multiplex_coverage', 'Budget', 'Movie_length', 'Trailer_views',\n",
       "       'Time_taken', 'Twitter_hastags', 'Avg_age_actors', 'Avg_rating',\n",
       "       'Genre_Comedy', 'Genre_Drama', 'Genre_Thriller', '3D_available_YES'],\n",
       "      dtype='object')"
      ]
     },
     "execution_count": 281,
     "metadata": {},
     "output_type": "execute_result"
    }
   ],
   "source": [
    "df.columns"
   ]
  },
  {
   "cell_type": "markdown",
   "id": "a39f30ed",
   "metadata": {},
   "source": [
    "1. Missing values in Time_taken\n",
    "2. Oulier in Twitter_hastags, Avg_age_actors, MArketin_expense"
   ]
  },
  {
   "cell_type": "markdown",
   "id": "895a7c44",
   "metadata": {},
   "source": [
    "# Train_test_split"
   ]
  },
  {
   "cell_type": "code",
   "execution_count": 308,
   "id": "f5ad935d",
   "metadata": {},
   "outputs": [],
   "source": [
    "# y"
   ]
  },
  {
   "cell_type": "code",
   "execution_count": 324,
   "id": "fe5fb74c",
   "metadata": {},
   "outputs": [],
   "source": [
    "from sklearn.model_selection import train_test_split\n",
    "from sklearn.preprocessing import StandardScaler"
   ]
  },
  {
   "cell_type": "code",
   "execution_count": 413,
   "id": "996cf3c9",
   "metadata": {},
   "outputs": [],
   "source": [
    "x_train_full, x_test, y_train_full, y_test = train_test_split(x, y, test_size=0.2, random_state=42)\n",
    "x_train, x_valid, y_train, y_valid = train_test_split(x_train_full, y_train_full, random_state=42)"
   ]
  },
  {
   "cell_type": "code",
   "execution_count": 414,
   "id": "f28ab729",
   "metadata": {},
   "outputs": [],
   "source": [
    "scaler = StandardScaler()\n",
    "x_train = scaler.fit_transform(x_train)\n",
    "x_valid = scaler.transform(x_valid)\n",
    "x_test = scaler.transform(x_test)"
   ]
  },
  {
   "cell_type": "code",
   "execution_count": 415,
   "id": "be24933e",
   "metadata": {},
   "outputs": [
    {
     "data": {
      "text/plain": [
       "(240, 19)"
      ]
     },
     "execution_count": 415,
     "metadata": {},
     "output_type": "execute_result"
    }
   ],
   "source": [
    "x_train.shape"
   ]
  },
  {
   "cell_type": "code",
   "execution_count": 352,
   "id": "9a79f46f",
   "metadata": {},
   "outputs": [],
   "source": [
    "# y_train.shape"
   ]
  },
  {
   "cell_type": "code",
   "execution_count": 382,
   "id": "32c1cd60",
   "metadata": {},
   "outputs": [
    {
     "data": {
      "text/plain": [
       "(19,)"
      ]
     },
     "execution_count": 382,
     "metadata": {},
     "output_type": "execute_result"
    }
   ],
   "source": [
    "x_input = x_train.shape[1:]\n",
    "x_input"
   ]
  },
  {
   "cell_type": "code",
   "execution_count": 401,
   "id": "80032589",
   "metadata": {},
   "outputs": [],
   "source": [
    "# class_weight = y.value_counts().to_dict()\n",
    "# class_weight\n",
    "# # total_sample = sum(class_weight.values())\n",
    "# # total_sample\n"
   ]
  },
  {
   "cell_type": "code",
   "execution_count": null,
   "id": "8768eb12",
   "metadata": {},
   "outputs": [],
   "source": []
  },
  {
   "cell_type": "markdown",
   "id": "eb6ce443",
   "metadata": {},
   "source": [
    "# Building Neural Model"
   ]
  },
  {
   "cell_type": "code",
   "execution_count": 402,
   "id": "9ee6d434",
   "metadata": {},
   "outputs": [],
   "source": [
    "import tensorflow as tf\n",
    "from tensorflow import keras\n",
    "from tensorflow.keras import Sequential\n",
    "from tensorflow.keras.layers import Flatten, Dense, InputLayer\n",
    "from tensorflow.keras import initializers\n",
    "from tensorflow.keras.optimizers import SGD"
   ]
  },
  {
   "cell_type": "code",
   "execution_count": 416,
   "id": "9439882a",
   "metadata": {},
   "outputs": [],
   "source": [
    "model = Sequential()\n",
    "model.add(InputLayer(x_input))\n",
    "model.add(Dense(10, activation='relu'))\n",
    "model.add(Dense(10, activation='relu'))\n",
    "model.add(Dense(1))"
   ]
  },
  {
   "cell_type": "code",
   "execution_count": 417,
   "id": "143dcf06",
   "metadata": {},
   "outputs": [
    {
     "name": "stdout",
     "output_type": "stream",
     "text": [
      "Model: \"sequential_12\"\n",
      "_________________________________________________________________\n",
      " Layer (type)                Output Shape              Param #   \n",
      "=================================================================\n",
      " dense_26 (Dense)            (None, 10)                200       \n",
      "                                                                 \n",
      " dense_27 (Dense)            (None, 10)                110       \n",
      "                                                                 \n",
      " dense_28 (Dense)            (None, 1)                 11        \n",
      "                                                                 \n",
      "=================================================================\n",
      "Total params: 321 (1.25 KB)\n",
      "Trainable params: 321 (1.25 KB)\n",
      "Non-trainable params: 0 (0.00 Byte)\n",
      "_________________________________________________________________\n"
     ]
    }
   ],
   "source": [
    "model.summary()"
   ]
  },
  {
   "cell_type": "markdown",
   "id": "224c6831",
   "metadata": {},
   "source": [
    "# Compile Model"
   ]
  },
  {
   "cell_type": "code",
   "execution_count": 420,
   "id": "40e7bd6f",
   "metadata": {},
   "outputs": [],
   "source": [
    "model.compile(optimizer=SGD(learning_rate=0.001), loss='mean_squared_error', metrics='mae')"
   ]
  },
  {
   "cell_type": "code",
   "execution_count": 421,
   "id": "0b6cd9c5",
   "metadata": {},
   "outputs": [
    {
     "name": "stdout",
     "output_type": "stream",
     "text": [
      "Epoch 1/10\n",
      "8/8 [==============================] - 1s 30ms/step - loss: 2162718976.0000 - mae: 42839.3164 - val_loss: 1986434816.0000 - val_mae: 40541.4375\n",
      "Epoch 2/10\n",
      "8/8 [==============================] - 0s 9ms/step - loss: 2105222016.0000 - mae: 42170.9141 - val_loss: 1932520704.0000 - val_mae: 39870.9609\n",
      "Epoch 3/10\n",
      "8/8 [==============================] - 0s 9ms/step - loss: 2049409664.0000 - mae: 41507.2656 - val_loss: 1879229184.0000 - val_mae: 39196.9688\n",
      "Epoch 4/10\n",
      "8/8 [==============================] - 0s 10ms/step - loss: 1994300160.0000 - mae: 40840.0430 - val_loss: 1828105856.0000 - val_mae: 38539.3125\n",
      "Epoch 5/10\n",
      "8/8 [==============================] - 0s 10ms/step - loss: 1941447040.0000 - mae: 40175.5117 - val_loss: 1779701760.0000 - val_mae: 37906.1328\n",
      "Epoch 6/10\n",
      "8/8 [==============================] - 0s 7ms/step - loss: 1891249408.0000 - mae: 39550.6289 - val_loss: 1732055808.0000 - val_mae: 37272.3594\n",
      "Epoch 7/10\n",
      "8/8 [==============================] - 0s 7ms/step - loss: 1841861248.0000 - mae: 38924.1172 - val_loss: 1686466304.0000 - val_mae: 36655.6875\n",
      "Epoch 8/10\n",
      "8/8 [==============================] - 0s 8ms/step - loss: 1794577536.0000 - mae: 38321.4375 - val_loss: 1642499072.0000 - val_mae: 36050.9688\n",
      "Epoch 9/10\n",
      "8/8 [==============================] - 0s 16ms/step - loss: 1748856064.0000 - mae: 37732.3281 - val_loss: 1599434368.0000 - val_mae: 35448.6562\n",
      "Epoch 10/10\n",
      "8/8 [==============================] - 0s 10ms/step - loss: 1704128768.0000 - mae: 37133.4609 - val_loss: 1558264320.0000 - val_mae: 34869.1094\n"
     ]
    },
    {
     "data": {
      "text/plain": [
       "<keras.src.callbacks.History at 0x1aa6632a430>"
      ]
     },
     "execution_count": 421,
     "metadata": {},
     "output_type": "execute_result"
    }
   ],
   "source": [
    "model.fit(x_train,y_train,epochs=10,validation_data=(x_valid, y_valid))"
   ]
  }
 ],
 "metadata": {
  "kernelspec": {
   "display_name": "Python 3 (ipykernel)",
   "language": "python",
   "name": "python3"
  },
  "language_info": {
   "codemirror_mode": {
    "name": "ipython",
    "version": 3
   },
   "file_extension": ".py",
   "mimetype": "text/x-python",
   "name": "python",
   "nbconvert_exporter": "python",
   "pygments_lexer": "ipython3",
   "version": "3.9.13"
  }
 },
 "nbformat": 4,
 "nbformat_minor": 5
}
